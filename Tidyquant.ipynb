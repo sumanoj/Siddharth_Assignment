{
 "cells": [
  {
   "cell_type": "code",
   "execution_count": 1,
   "metadata": {},
   "outputs": [],
   "source": [
    "import pandas as pd\n",
    "import numpy as np\n",
    "import seaborn as sns\n",
    "import matplotlib.pyplot as plt\n"
   ]
  },
  {
   "cell_type": "code",
   "execution_count": 6,
   "metadata": {},
   "outputs": [],
   "source": [
    "sales_data=pd.read_csv('sales_data.csv')"
   ]
  },
  {
   "cell_type": "code",
   "execution_count": 329,
   "metadata": {},
   "outputs": [
    {
     "data": {
      "text/html": [
       "<div>\n",
       "<style scoped>\n",
       "    .dataframe tbody tr th:only-of-type {\n",
       "        vertical-align: middle;\n",
       "    }\n",
       "\n",
       "    .dataframe tbody tr th {\n",
       "        vertical-align: top;\n",
       "    }\n",
       "\n",
       "    .dataframe thead th {\n",
       "        text-align: right;\n",
       "    }\n",
       "</style>\n",
       "<table border=\"1\" class=\"dataframe\">\n",
       "  <thead>\n",
       "    <tr style=\"text-align: right;\">\n",
       "      <th></th>\n",
       "      <th>TRANS POSTED DATE</th>\n",
       "      <th>TRANS ACTUAL DATE</th>\n",
       "      <th>TRANS POSTED YEAR</th>\n",
       "      <th>TRANS POSTED MONTH</th>\n",
       "      <th>TRANS POSTED DAY</th>\n",
       "      <th>TRANS POSTED WK</th>\n",
       "      <th>TRANS ACTUAL YEAR</th>\n",
       "      <th>TRANS ACTUAL MONTH</th>\n",
       "      <th>TRANS ACTUAL DAY</th>\n",
       "      <th>TRANS ACTUAL WK</th>\n",
       "      <th>...</th>\n",
       "      <th>TRANS DOC NUMBER</th>\n",
       "      <th>LOCATION CODE</th>\n",
       "      <th>BRAND</th>\n",
       "      <th>SKU</th>\n",
       "      <th>INVOICED UNITS</th>\n",
       "      <th>CREDIT MEMO UNITS</th>\n",
       "      <th>NET SALES UNITS</th>\n",
       "      <th>UNIT PRICE</th>\n",
       "      <th>INVOICED AMOUNT</th>\n",
       "      <th>SALES ACTIVITY CODE</th>\n",
       "    </tr>\n",
       "  </thead>\n",
       "  <tbody>\n",
       "    <tr>\n",
       "      <th>0</th>\n",
       "      <td>06-01-2018</td>\n",
       "      <td>06-01-2018</td>\n",
       "      <td>2018</td>\n",
       "      <td>6</td>\n",
       "      <td>1</td>\n",
       "      <td>22</td>\n",
       "      <td>2018</td>\n",
       "      <td>6</td>\n",
       "      <td>1</td>\n",
       "      <td>22</td>\n",
       "      <td>...</td>\n",
       "      <td>NTSLS-0000160330</td>\n",
       "      <td>Loc 2</td>\n",
       "      <td>Brand B</td>\n",
       "      <td>PPL.15302JSB/07M</td>\n",
       "      <td>1</td>\n",
       "      <td>0</td>\n",
       "      <td>1</td>\n",
       "      <td>8190</td>\n",
       "      <td>6552.00</td>\n",
       "      <td>REGULAR</td>\n",
       "    </tr>\n",
       "    <tr>\n",
       "      <th>1</th>\n",
       "      <td>06-01-2018</td>\n",
       "      <td>06-01-2018</td>\n",
       "      <td>2018</td>\n",
       "      <td>6</td>\n",
       "      <td>1</td>\n",
       "      <td>22</td>\n",
       "      <td>2018</td>\n",
       "      <td>6</td>\n",
       "      <td>1</td>\n",
       "      <td>22</td>\n",
       "      <td>...</td>\n",
       "      <td>NTSLS-0000160340</td>\n",
       "      <td>Loc 9</td>\n",
       "      <td>Brand B</td>\n",
       "      <td>PPL.14378JSR/12P</td>\n",
       "      <td>1</td>\n",
       "      <td>0</td>\n",
       "      <td>1</td>\n",
       "      <td>7490</td>\n",
       "      <td>5243.00</td>\n",
       "      <td>REGDISC</td>\n",
       "    </tr>\n",
       "    <tr>\n",
       "      <th>2</th>\n",
       "      <td>06-01-2018</td>\n",
       "      <td>06-01-2018</td>\n",
       "      <td>2018</td>\n",
       "      <td>6</td>\n",
       "      <td>1</td>\n",
       "      <td>22</td>\n",
       "      <td>2018</td>\n",
       "      <td>6</td>\n",
       "      <td>1</td>\n",
       "      <td>22</td>\n",
       "      <td>...</td>\n",
       "      <td>PSINV-0380308</td>\n",
       "      <td>Loc 18</td>\n",
       "      <td>Brand B</td>\n",
       "      <td>PPL.15366JS/03M</td>\n",
       "      <td>1</td>\n",
       "      <td>0</td>\n",
       "      <td>1</td>\n",
       "      <td>7290</td>\n",
       "      <td>4257.36</td>\n",
       "      <td>REGDISC</td>\n",
       "    </tr>\n",
       "    <tr>\n",
       "      <th>3</th>\n",
       "      <td>06-06-2018</td>\n",
       "      <td>06-06-2018</td>\n",
       "      <td>2018</td>\n",
       "      <td>6</td>\n",
       "      <td>6</td>\n",
       "      <td>23</td>\n",
       "      <td>2018</td>\n",
       "      <td>6</td>\n",
       "      <td>6</td>\n",
       "      <td>23</td>\n",
       "      <td>...</td>\n",
       "      <td>NTSLS-0000160545</td>\n",
       "      <td>Loc 9</td>\n",
       "      <td>Brand B</td>\n",
       "      <td>PPL.15001JSB/02MA</td>\n",
       "      <td>1</td>\n",
       "      <td>0</td>\n",
       "      <td>1</td>\n",
       "      <td>7590</td>\n",
       "      <td>5313.00</td>\n",
       "      <td>REGDISC</td>\n",
       "    </tr>\n",
       "    <tr>\n",
       "      <th>4</th>\n",
       "      <td>06-09-2018</td>\n",
       "      <td>06-09-2018</td>\n",
       "      <td>2018</td>\n",
       "      <td>6</td>\n",
       "      <td>9</td>\n",
       "      <td>23</td>\n",
       "      <td>2018</td>\n",
       "      <td>6</td>\n",
       "      <td>9</td>\n",
       "      <td>23</td>\n",
       "      <td>...</td>\n",
       "      <td>NTSLS-0000160669</td>\n",
       "      <td>Loc 9</td>\n",
       "      <td>Brand B</td>\n",
       "      <td>PPL.14834JSB/03M</td>\n",
       "      <td>1</td>\n",
       "      <td>0</td>\n",
       "      <td>1</td>\n",
       "      <td>10990</td>\n",
       "      <td>7693.00</td>\n",
       "      <td>REGDISC</td>\n",
       "    </tr>\n",
       "  </tbody>\n",
       "</table>\n",
       "<p>5 rows × 21 columns</p>\n",
       "</div>"
      ],
      "text/plain": [
       "  TRANS POSTED DATE TRANS ACTUAL DATE  TRANS POSTED YEAR  TRANS POSTED MONTH  \\\n",
       "0        06-01-2018        06-01-2018               2018                   6   \n",
       "1        06-01-2018        06-01-2018               2018                   6   \n",
       "2        06-01-2018        06-01-2018               2018                   6   \n",
       "3        06-06-2018        06-06-2018               2018                   6   \n",
       "4        06-09-2018        06-09-2018               2018                   6   \n",
       "\n",
       "   TRANS POSTED DAY  TRANS POSTED WK  TRANS ACTUAL YEAR  TRANS ACTUAL MONTH  \\\n",
       "0                 1               22               2018                   6   \n",
       "1                 1               22               2018                   6   \n",
       "2                 1               22               2018                   6   \n",
       "3                 6               23               2018                   6   \n",
       "4                 9               23               2018                   6   \n",
       "\n",
       "   TRANS ACTUAL DAY  TRANS ACTUAL WK  ...  TRANS DOC NUMBER LOCATION CODE  \\\n",
       "0                 1               22  ...  NTSLS-0000160330         Loc 2   \n",
       "1                 1               22  ...  NTSLS-0000160340         Loc 9   \n",
       "2                 1               22  ...     PSINV-0380308        Loc 18   \n",
       "3                 6               23  ...  NTSLS-0000160545         Loc 9   \n",
       "4                 9               23  ...  NTSLS-0000160669         Loc 9   \n",
       "\n",
       "     BRAND                SKU INVOICED UNITS  CREDIT MEMO UNITS  \\\n",
       "0  Brand B   PPL.15302JSB/07M              1                  0   \n",
       "1  Brand B   PPL.14378JSR/12P              1                  0   \n",
       "2  Brand B    PPL.15366JS/03M              1                  0   \n",
       "3  Brand B  PPL.15001JSB/02MA              1                  0   \n",
       "4  Brand B   PPL.14834JSB/03M              1                  0   \n",
       "\n",
       "   NET SALES UNITS  UNIT PRICE  INVOICED AMOUNT   SALES ACTIVITY CODE  \n",
       "0                1        8190           6552.00              REGULAR  \n",
       "1                1        7490           5243.00              REGDISC  \n",
       "2                1        7290           4257.36              REGDISC  \n",
       "3                1        7590           5313.00              REGDISC  \n",
       "4                1       10990           7693.00              REGDISC  \n",
       "\n",
       "[5 rows x 21 columns]"
      ]
     },
     "execution_count": 329,
     "metadata": {},
     "output_type": "execute_result"
    }
   ],
   "source": [
    "sales_data.head()"
   ]
  },
  {
   "cell_type": "code",
   "execution_count": 8,
   "metadata": {},
   "outputs": [
    {
     "data": {
      "text/plain": [
       "(14386, 21)"
      ]
     },
     "execution_count": 8,
     "metadata": {},
     "output_type": "execute_result"
    }
   ],
   "source": [
    "sales_data.shape"
   ]
  },
  {
   "cell_type": "code",
   "execution_count": 13,
   "metadata": {},
   "outputs": [
    {
     "name": "stdout",
     "output_type": "stream",
     "text": [
      "<class 'pandas.core.frame.DataFrame'>\n",
      "RangeIndex: 14386 entries, 0 to 14385\n",
      "Data columns (total 21 columns):\n",
      " #   Column               Non-Null Count  Dtype  \n",
      "---  ------               --------------  -----  \n",
      " 0   TRANS POSTED DATE    14386 non-null  object \n",
      " 1   TRANS ACTUAL DATE    14386 non-null  object \n",
      " 2   TRANS POSTED YEAR    14386 non-null  int64  \n",
      " 3   TRANS POSTED MONTH   14386 non-null  int64  \n",
      " 4   TRANS POSTED DAY     14386 non-null  int64  \n",
      " 5   TRANS POSTED WK      14386 non-null  int64  \n",
      " 6   TRANS ACTUAL YEAR    14386 non-null  int64  \n",
      " 7   TRANS ACTUAL MONTH   14386 non-null  int64  \n",
      " 8   TRANS ACTUAL DAY     14386 non-null  int64  \n",
      " 9   TRANS ACTUAL WK      14386 non-null  int64  \n",
      " 10  TRANS TYPE           14386 non-null  object \n",
      " 11  TRANS DOC NUMBER     14386 non-null  object \n",
      " 12  LOCATION CODE        14386 non-null  object \n",
      " 13  BRAND                14386 non-null  object \n",
      " 14  SKU                  14386 non-null  object \n",
      " 15  INVOICED UNITS       14386 non-null  int64  \n",
      " 16  CREDIT MEMO UNITS    14386 non-null  int64  \n",
      " 17  NET SALES UNITS      14386 non-null  int64  \n",
      " 18  UNIT PRICE           14386 non-null  int64  \n",
      " 19  INVOICED AMOUNT      14386 non-null  float64\n",
      " 20  SALES ACTIVITY CODE  14386 non-null  object \n",
      "dtypes: float64(1), int64(12), object(8)\n",
      "memory usage: 2.3+ MB\n"
     ]
    }
   ],
   "source": [
    "sales_data.info()"
   ]
  },
  {
   "cell_type": "code",
   "execution_count": 9,
   "metadata": {},
   "outputs": [],
   "source": [
    "masterfile=pd.read_csv('masterfile.csv')"
   ]
  },
  {
   "cell_type": "code",
   "execution_count": 10,
   "metadata": {},
   "outputs": [
    {
     "data": {
      "text/html": [
       "<div>\n",
       "<style scoped>\n",
       "    .dataframe tbody tr th:only-of-type {\n",
       "        vertical-align: middle;\n",
       "    }\n",
       "\n",
       "    .dataframe tbody tr th {\n",
       "        vertical-align: top;\n",
       "    }\n",
       "\n",
       "    .dataframe thead th {\n",
       "        text-align: right;\n",
       "    }\n",
       "</style>\n",
       "<table border=\"1\" class=\"dataframe\">\n",
       "  <thead>\n",
       "    <tr style=\"text-align: right;\">\n",
       "      <th></th>\n",
       "      <th>SKU</th>\n",
       "      <th>CATEGORY</th>\n",
       "      <th>COLLECTION</th>\n",
       "      <th>LINE_UP</th>\n",
       "      <th>ENTRY_DATE</th>\n",
       "      <th>CATEGORY.1</th>\n",
       "      <th>GENDER</th>\n",
       "      <th>CASE MATERIAL</th>\n",
       "      <th>CASE COLOR</th>\n",
       "      <th>CASE SHAPE</th>\n",
       "      <th>...</th>\n",
       "      <th>DIAL TYPE</th>\n",
       "      <th>DIAL COLOR</th>\n",
       "      <th>SKU TYPE</th>\n",
       "      <th>STRAP TYPE</th>\n",
       "      <th>STRAP COLOR</th>\n",
       "      <th>ORIGINAL PRICE</th>\n",
       "      <th>PRICE RANGE</th>\n",
       "      <th>ITEM DISC</th>\n",
       "      <th>TECHNOLOGY</th>\n",
       "      <th>BRAND</th>\n",
       "    </tr>\n",
       "  </thead>\n",
       "  <tbody>\n",
       "    <tr>\n",
       "      <th>0</th>\n",
       "      <td>AE1242-0103</td>\n",
       "      <td>ENTRYPRICE</td>\n",
       "      <td>FH2015</td>\n",
       "      <td>PMDOWN</td>\n",
       "      <td>2015-7</td>\n",
       "      <td>LOWLINE</td>\n",
       "      <td>MALE</td>\n",
       "      <td>SS</td>\n",
       "      <td>SLV</td>\n",
       "      <td>ROUND</td>\n",
       "      <td>...</td>\n",
       "      <td>ANALOG</td>\n",
       "      <td>SLV</td>\n",
       "      <td>6</td>\n",
       "      <td>SS</td>\n",
       "      <td>SLV</td>\n",
       "      <td>1990</td>\n",
       "      <td>1000 - 1999</td>\n",
       "      <td>0.3</td>\n",
       "      <td>3H</td>\n",
       "      <td>Brand A</td>\n",
       "    </tr>\n",
       "    <tr>\n",
       "      <th>1</th>\n",
       "      <td>AE1242-0903</td>\n",
       "      <td>ENTRYPRICE</td>\n",
       "      <td>SS2018</td>\n",
       "      <td>CARRYOVER</td>\n",
       "      <td>NaN</td>\n",
       "      <td>LOWLINE</td>\n",
       "      <td>MALE</td>\n",
       "      <td>SS</td>\n",
       "      <td>SLV</td>\n",
       "      <td>ROUND</td>\n",
       "      <td>...</td>\n",
       "      <td>ANALOG</td>\n",
       "      <td>SLV</td>\n",
       "      <td>2</td>\n",
       "      <td>SS</td>\n",
       "      <td>2T GLD SLV</td>\n",
       "      <td>2890</td>\n",
       "      <td>2000 - 2999</td>\n",
       "      <td>0.0</td>\n",
       "      <td>3H</td>\n",
       "      <td>Brand A</td>\n",
       "    </tr>\n",
       "    <tr>\n",
       "      <th>2</th>\n",
       "      <td>AE1242-1216</td>\n",
       "      <td>ENTRYPRICE</td>\n",
       "      <td>FH2015</td>\n",
       "      <td>CARRYOVER</td>\n",
       "      <td>2015-7</td>\n",
       "      <td>LOWLINE</td>\n",
       "      <td>MALE</td>\n",
       "      <td>SS</td>\n",
       "      <td>GLD</td>\n",
       "      <td>ROUND</td>\n",
       "      <td>...</td>\n",
       "      <td>ANALOG</td>\n",
       "      <td>GLD</td>\n",
       "      <td>1</td>\n",
       "      <td>SS</td>\n",
       "      <td>GLD</td>\n",
       "      <td>2890</td>\n",
       "      <td>2000 - 2999</td>\n",
       "      <td>0.0</td>\n",
       "      <td>3H</td>\n",
       "      <td>Brand A</td>\n",
       "    </tr>\n",
       "    <tr>\n",
       "      <th>3</th>\n",
       "      <td>AE1243-0103</td>\n",
       "      <td>ENTRYPRICE</td>\n",
       "      <td>FH2015</td>\n",
       "      <td>CARRYOVER</td>\n",
       "      <td>2015-7</td>\n",
       "      <td>LOWLINE</td>\n",
       "      <td>MALE</td>\n",
       "      <td>SS</td>\n",
       "      <td>SLV</td>\n",
       "      <td>ROUND</td>\n",
       "      <td>...</td>\n",
       "      <td>ANALOG</td>\n",
       "      <td>SLV</td>\n",
       "      <td>0</td>\n",
       "      <td>SS</td>\n",
       "      <td>SLV</td>\n",
       "      <td>1990</td>\n",
       "      <td>1000 - 1999</td>\n",
       "      <td>0.0</td>\n",
       "      <td>3H</td>\n",
       "      <td>Brand A</td>\n",
       "    </tr>\n",
       "    <tr>\n",
       "      <th>4</th>\n",
       "      <td>AE1243-1216</td>\n",
       "      <td>ENTRYPRICE</td>\n",
       "      <td>FH2015</td>\n",
       "      <td>CARRYOVER</td>\n",
       "      <td>2015-7</td>\n",
       "      <td>LOWLINE</td>\n",
       "      <td>MALE</td>\n",
       "      <td>SS</td>\n",
       "      <td>GLD</td>\n",
       "      <td>ROUND</td>\n",
       "      <td>...</td>\n",
       "      <td>ANALOG</td>\n",
       "      <td>GLD</td>\n",
       "      <td>0</td>\n",
       "      <td>SS</td>\n",
       "      <td>GLD</td>\n",
       "      <td>2890</td>\n",
       "      <td>2000 - 2999</td>\n",
       "      <td>0.0</td>\n",
       "      <td>3H</td>\n",
       "      <td>Brand A</td>\n",
       "    </tr>\n",
       "  </tbody>\n",
       "</table>\n",
       "<p>5 rows × 21 columns</p>\n",
       "</div>"
      ],
      "text/plain": [
       "           SKU    CATEGORY COLLECTION    LINE_UP ENTRY_DATE CATEGORY.1 GENDER  \\\n",
       "0  AE1242-0103  ENTRYPRICE     FH2015     PMDOWN     2015-7    LOWLINE   MALE   \n",
       "1  AE1242-0903  ENTRYPRICE     SS2018  CARRYOVER        NaN    LOWLINE   MALE   \n",
       "2  AE1242-1216  ENTRYPRICE     FH2015  CARRYOVER     2015-7    LOWLINE   MALE   \n",
       "3  AE1243-0103  ENTRYPRICE     FH2015  CARRYOVER     2015-7    LOWLINE   MALE   \n",
       "4  AE1243-1216  ENTRYPRICE     FH2015  CARRYOVER     2015-7    LOWLINE   MALE   \n",
       "\n",
       "  CASE MATERIAL CASE COLOR CASE SHAPE  ... DIAL TYPE DIAL COLOR SKU TYPE  \\\n",
       "0            SS        SLV      ROUND  ...    ANALOG        SLV        6   \n",
       "1            SS        SLV      ROUND  ...    ANALOG        SLV        2   \n",
       "2            SS        GLD      ROUND  ...    ANALOG        GLD        1   \n",
       "3            SS        SLV      ROUND  ...    ANALOG        SLV        0   \n",
       "4            SS        GLD      ROUND  ...    ANALOG        GLD        0   \n",
       "\n",
       "   STRAP TYPE STRAP COLOR ORIGINAL PRICE  PRICE RANGE ITEM DISC  TECHNOLOGY  \\\n",
       "0          SS         SLV           1990  1000 - 1999       0.3          3H   \n",
       "1          SS  2T GLD SLV           2890  2000 - 2999       0.0          3H   \n",
       "2          SS         GLD           2890  2000 - 2999       0.0          3H   \n",
       "3          SS         SLV           1990  1000 - 1999       0.0          3H   \n",
       "4          SS         GLD           2890  2000 - 2999       0.0          3H   \n",
       "\n",
       "     BRAND  \n",
       "0  Brand A  \n",
       "1  Brand A  \n",
       "2  Brand A  \n",
       "3  Brand A  \n",
       "4  Brand A  \n",
       "\n",
       "[5 rows x 21 columns]"
      ]
     },
     "execution_count": 10,
     "metadata": {},
     "output_type": "execute_result"
    }
   ],
   "source": [
    "masterfile.head()"
   ]
  },
  {
   "cell_type": "code",
   "execution_count": 11,
   "metadata": {},
   "outputs": [
    {
     "data": {
      "text/plain": [
       "(1186, 21)"
      ]
     },
     "execution_count": 11,
     "metadata": {},
     "output_type": "execute_result"
    }
   ],
   "source": [
    "masterfile.shape"
   ]
  },
  {
   "cell_type": "code",
   "execution_count": 14,
   "metadata": {
    "scrolled": true
   },
   "outputs": [
    {
     "name": "stdout",
     "output_type": "stream",
     "text": [
      "<class 'pandas.core.frame.DataFrame'>\n",
      "RangeIndex: 1186 entries, 0 to 1185\n",
      "Data columns (total 21 columns):\n",
      " #   Column          Non-Null Count  Dtype  \n",
      "---  ------          --------------  -----  \n",
      " 0   SKU             1186 non-null   object \n",
      " 1   CATEGORY        1186 non-null   object \n",
      " 2   COLLECTION      1185 non-null   object \n",
      " 3   LINE_UP         1186 non-null   object \n",
      " 4   ENTRY_DATE      1058 non-null   object \n",
      " 5   CATEGORY.1      1183 non-null   object \n",
      " 6   GENDER          1186 non-null   object \n",
      " 7   CASE MATERIAL   1184 non-null   object \n",
      " 8   CASE COLOR      1184 non-null   object \n",
      " 9   CASE SHAPE      1184 non-null   object \n",
      " 10  CASE SIZE       1120 non-null   object \n",
      " 11  DIAL TYPE       1186 non-null   object \n",
      " 12  DIAL COLOR      1184 non-null   object \n",
      " 13  SKU TYPE        1186 non-null   int64  \n",
      " 14  STRAP TYPE      1184 non-null   object \n",
      " 15  STRAP COLOR     1184 non-null   object \n",
      " 16  ORIGINAL PRICE  1186 non-null   int64  \n",
      " 17  PRICE RANGE     1186 non-null   object \n",
      " 18  ITEM DISC       1186 non-null   float64\n",
      " 19  TECHNOLOGY      1184 non-null   object \n",
      " 20  BRAND           1186 non-null   object \n",
      "dtypes: float64(1), int64(2), object(18)\n",
      "memory usage: 194.7+ KB\n"
     ]
    }
   ],
   "source": [
    "masterfile.info()"
   ]
  },
  {
   "cell_type": "markdown",
   "metadata": {},
   "source": [
    "# Checking the most on demand brand"
   ]
  },
  {
   "cell_type": "code",
   "execution_count": 20,
   "metadata": {},
   "outputs": [
    {
     "data": {
      "image/png": "[encoded data removed]",
      "text/plain": [
       "<Figure size 432x288 with 1 Axes>"
      ]
     },
     "metadata": {},
     "output_type": "display_data"
    }
   ],
   "source": [
    "masterfile['BRAND'].value_counts().plot(kind='pie',autopct='%1.1f%%')\n",
    "plt.xticks(rotation=0)\n",
    "plt.show()"
   ]
  },
  {
   "cell_type": "code",
   "execution_count": 68,
   "metadata": {
    "scrolled": true
   },
   "outputs": [
    {
     "data": {
      "image/png": "[encoded data removed]",
      "text/plain": [
       "<Figure size 432x288 with 1 Axes>"
      ]
     },
     "metadata": {},
     "output_type": "display_data"
    }
   ],
   "source": [
    "sales_data['BRAND'].value_counts().plot(kind='pie',autopct='%1.1f%%')\n",
    "plt.xticks(rotation=0)\n",
    "plt.show()"
   ]
  },
  {
   "cell_type": "markdown",
   "metadata": {},
   "source": [
    "# Average price on each brand of watches"
   ]
  },
  {
   "cell_type": "code",
   "execution_count": 23,
   "metadata": {
    "scrolled": false
   },
   "outputs": [
    {
     "data": {
      "image/png": "[encoded data removed]",
      "text/plain": [
       "<Figure size 432x288 with 1 Axes>"
      ]
     },
     "metadata": {
      "needs_background": "light"
     },
     "output_type": "display_data"
    }
   ],
   "source": [
    "sns.barplot(x='BRAND',y='ORIGINAL PRICE',data=masterfile)\n",
    "plt.show()"
   ]
  },
  {
   "cell_type": "markdown",
   "metadata": {},
   "source": [
    "# Dial type effects price pretty much,checking on demand Dial type amongst all"
   ]
  },
  {
   "cell_type": "code",
   "execution_count": 187,
   "metadata": {
    "scrolled": true
   },
   "outputs": [
    {
     "data": {
      "text/plain": [
       "ANALOG     1000\n",
       "DIGITAL     178\n",
       "ANADIGI       8\n",
       "Name: DIAL TYPE, dtype: int64"
      ]
     },
     "execution_count": 187,
     "metadata": {},
     "output_type": "execute_result"
    }
   ],
   "source": [
    "masterfile['DIAL TYPE'].value_counts()"
   ]
  },
  {
   "cell_type": "code",
   "execution_count": 189,
   "metadata": {},
   "outputs": [
    {
     "data": {
      "image/png": "[encoded data removed]",
      "text/plain": [
       "<Figure size 864x648 with 1 Axes>"
      ]
     },
     "metadata": {
      "needs_background": "light"
     },
     "output_type": "display_data"
    }
   ],
   "source": [
    "plt.figure(figsize=(12,9))\n",
    "sns.barplot(x='DIAL TYPE',y='ORIGINAL PRICE',data=masterfile,hue='BRAND')\n",
    "plt.show()"
   ]
  },
  {
   "cell_type": "code",
   "execution_count": 48,
   "metadata": {},
   "outputs": [
    {
     "data": {
      "image/png": "[encoded data removed]",
      "text/plain": [
       "<Figure size 864x648 with 1 Axes>"
      ]
     },
     "metadata": {
      "needs_background": "light"
     },
     "output_type": "display_data"
    }
   ],
   "source": [
    "plt.figure(figsize=(12,9))\n",
    "sns.barplot(x='DIAL TYPE',y='ORIGINAL PRICE',data=masterfile)\n",
    "plt.show()"
   ]
  },
  {
   "cell_type": "code",
   "execution_count": 153,
   "metadata": {
    "scrolled": false
   },
   "outputs": [
    {
     "data": {
      "image/png": "[encoded data removed]",
      "text/plain": [
       "<Figure size 360x360 with 1 Axes>"
      ]
     },
     "metadata": {
      "needs_background": "light"
     },
     "output_type": "display_data"
    }
   ],
   "source": [
    "sns.catplot(x='DIAL TYPE',y='ORIGINAL PRICE',data=masterfile)\n",
    "plt.show()"
   ]
  },
  {
   "cell_type": "code",
   "execution_count": 46,
   "metadata": {
    "scrolled": false
   },
   "outputs": [
    {
     "data": {
      "image/png": "[encoded data removed]",
      "text/plain": [
       "<Figure size 864x648 with 1 Axes>"
      ]
     },
     "metadata": {
      "needs_background": "light"
     },
     "output_type": "display_data"
    }
   ],
   "source": [
    "plt.figure(figsize=(12,9))\n",
    "sns.boxplot(x='BRAND',y='ORIGINAL PRICE',data=masterfile,hue='DIAL TYPE')\n",
    "plt.show()"
   ]
  },
  {
   "cell_type": "code",
   "execution_count": 197,
   "metadata": {},
   "outputs": [
    {
     "data": {
      "text/plain": [
       "ANALOG    202\n",
       "Name: DIAL TYPE, dtype: int64"
      ]
     },
     "execution_count": 197,
     "metadata": {},
     "output_type": "execute_result"
    }
   ],
   "source": [
    "masterfile[masterfile['BRAND']=='Brand A']['DIAL TYPE'].value_counts()"
   ]
  },
  {
   "cell_type": "code",
   "execution_count": 196,
   "metadata": {},
   "outputs": [
    {
     "data": {
      "text/plain": [
       "ANALOG    169\n",
       "Name: DIAL TYPE, dtype: int64"
      ]
     },
     "execution_count": 196,
     "metadata": {},
     "output_type": "execute_result"
    }
   ],
   "source": [
    "masterfile[masterfile['BRAND']=='Brand B']['DIAL TYPE'].value_counts()"
   ]
  },
  {
   "cell_type": "code",
   "execution_count": 358,
   "metadata": {},
   "outputs": [
    {
     "data": {
      "text/plain": [
       "ANALOG     629\n",
       "DIGITAL    178\n",
       "ANADIGI      8\n",
       "Name: DIAL TYPE, dtype: int64"
      ]
     },
     "execution_count": 358,
     "metadata": {},
     "output_type": "execute_result"
    }
   ],
   "source": [
    "masterfile[masterfile['BRAND']=='Brand C']['DIAL TYPE'].value_counts()"
   ]
  },
  {
   "cell_type": "code",
   "execution_count": 357,
   "metadata": {
    "scrolled": false
   },
   "outputs": [
    {
     "data": {
      "image/png": "[encoded data removed]",
      "text/plain": [
       "<Figure size 432x288 with 1 Axes>"
      ]
     },
     "metadata": {
      "needs_background": "light"
     },
     "output_type": "display_data"
    }
   ],
   "source": [
    "masterfile[masterfile['BRAND']=='Brand C']['DIAL TYPE'].value_counts().plot(kind='bar')\n",
    "plt.show()"
   ]
  },
  {
   "cell_type": "markdown",
   "metadata": {},
   "source": [
    "# Average Original price"
   ]
  },
  {
   "cell_type": "code",
   "execution_count": 199,
   "metadata": {
    "scrolled": false
   },
   "outputs": [
    {
     "data": {
      "image/png": "[encoded data removed]",
      "text/plain": [
       "<Figure size 864x648 with 1 Axes>"
      ]
     },
     "metadata": {
      "needs_background": "light"
     },
     "output_type": "display_data"
    }
   ],
   "source": [
    "plt.figure(figsize=(12,9))\n",
    "a=masterfile['ORIGINAL PRICE'].mean()\n",
    "b=masterfile['ORIGINAL PRICE'].median()\n",
    "sns.distplot(masterfile['ORIGINAL PRICE'])\n",
    "plt.axvline(a,color='red',label='Mean')\n",
    "plt.show()"
   ]
  },
  {
   "cell_type": "code",
   "execution_count": 203,
   "metadata": {},
   "outputs": [
    {
     "data": {
      "text/plain": [
       "3290.0"
      ]
     },
     "execution_count": 203,
     "metadata": {},
     "output_type": "execute_result"
    }
   ],
   "source": [
    "masterfile[masterfile['BRAND']=='Brand A']['ORIGINAL PRICE'].mean()"
   ]
  },
  {
   "cell_type": "code",
   "execution_count": 361,
   "metadata": {},
   "outputs": [
    {
     "data": {
      "image/png": "[encoded data removed]",
      "text/plain": [
       "<Figure size 432x288 with 1 Axes>"
      ]
     },
     "metadata": {
      "needs_background": "light"
     },
     "output_type": "display_data"
    }
   ],
   "source": [
    "masterfile[masterfile['BRAND']=='Brand A']['ORIGINAL PRICE'].plot(kind='kde')\n",
    "plt.xlabel('Brand A Price Distribution')\n",
    "plt.show()"
   ]
  },
  {
   "cell_type": "code",
   "execution_count": 202,
   "metadata": {},
   "outputs": [
    {
     "data": {
      "text/plain": [
       "6971.656804733728"
      ]
     },
     "execution_count": 202,
     "metadata": {},
     "output_type": "execute_result"
    }
   ],
   "source": [
    "masterfile[masterfile['BRAND']=='Brand B']['ORIGINAL PRICE'].mean()"
   ]
  },
  {
   "cell_type": "code",
   "execution_count": 360,
   "metadata": {},
   "outputs": [
    {
     "data": {
      "image/png": "[encoded data removed]",
      "text/plain": [
       "<Figure size 432x288 with 1 Axes>"
      ]
     },
     "metadata": {
      "needs_background": "light"
     },
     "output_type": "display_data"
    }
   ],
   "source": [
    "masterfile[masterfile['BRAND']=='Brand B']['ORIGINAL PRICE'].plot(kind='kde')\n",
    "plt.xlabel('Brand B Price Distribution')\n",
    "plt.show()"
   ]
  },
  {
   "cell_type": "code",
   "execution_count": 201,
   "metadata": {},
   "outputs": [
    {
     "data": {
      "text/plain": [
       "4648.527607361963"
      ]
     },
     "execution_count": 201,
     "metadata": {},
     "output_type": "execute_result"
    }
   ],
   "source": [
    "masterfile[masterfile['BRAND']=='Brand C']['ORIGINAL PRICE'].mean()"
   ]
  },
  {
   "cell_type": "code",
   "execution_count": 362,
   "metadata": {
    "scrolled": false
   },
   "outputs": [
    {
     "data": {
      "image/png": "[encoded data removed]",
      "text/plain": [
       "<Figure size 432x288 with 1 Axes>"
      ]
     },
     "metadata": {
      "needs_background": "light"
     },
     "output_type": "display_data"
    }
   ],
   "source": [
    "masterfile[masterfile['BRAND']=='Brand C']['ORIGINAL PRICE'].plot(kind='kde')\n",
    "plt.xlabel('Brand C Price Distribution')\n",
    "plt.show()"
   ]
  },
  {
   "cell_type": "markdown",
   "metadata": {},
   "source": [
    "# Each brands and what kind of dial type they manufacture"
   ]
  },
  {
   "cell_type": "code",
   "execution_count": null,
   "metadata": {},
   "outputs": [],
   "source": [
    "# BRAND C"
   ]
  },
  {
   "cell_type": "code",
   "execution_count": 221,
   "metadata": {
    "scrolled": true
   },
   "outputs": [
    {
     "data": {
      "text/plain": [
       "ANALOG     629\n",
       "DIGITAL    178\n",
       "ANADIGI      8\n",
       "Name: DIAL TYPE, dtype: int64"
      ]
     },
     "execution_count": 221,
     "metadata": {},
     "output_type": "execute_result"
    }
   ],
   "source": [
    "masterfile[masterfile['BRAND']=='Brand C']['DIAL TYPE'].value_counts()"
   ]
  },
  {
   "cell_type": "code",
   "execution_count": null,
   "metadata": {},
   "outputs": [],
   "source": [
    "# BRAND A"
   ]
  },
  {
   "cell_type": "code",
   "execution_count": 222,
   "metadata": {},
   "outputs": [
    {
     "data": {
      "text/plain": [
       "ANALOG    202\n",
       "Name: DIAL TYPE, dtype: int64"
      ]
     },
     "execution_count": 222,
     "metadata": {},
     "output_type": "execute_result"
    }
   ],
   "source": [
    "masterfile[masterfile['BRAND']=='Brand A']['DIAL TYPE'].value_counts()"
   ]
  },
  {
   "cell_type": "code",
   "execution_count": 225,
   "metadata": {},
   "outputs": [],
   "source": [
    "# BRAND B"
   ]
  },
  {
   "cell_type": "code",
   "execution_count": 224,
   "metadata": {},
   "outputs": [
    {
     "data": {
      "text/plain": [
       "ANALOG    169\n",
       "Name: DIAL TYPE, dtype: int64"
      ]
     },
     "execution_count": 224,
     "metadata": {},
     "output_type": "execute_result"
    }
   ],
   "source": [
    "masterfile[masterfile['BRAND']=='Brand B']['DIAL TYPE'].value_counts()"
   ]
  },
  {
   "cell_type": "markdown",
   "metadata": {},
   "source": [
    "# Popular strap types"
   ]
  },
  {
   "cell_type": "code",
   "execution_count": 59,
   "metadata": {
    "scrolled": true
   },
   "outputs": [
    {
     "data": {
      "image/png": "[encoded data removed]",
      "text/plain": [
       "<Figure size 864x648 with 1 Axes>"
      ]
     },
     "metadata": {
      "needs_background": "light"
     },
     "output_type": "display_data"
    }
   ],
   "source": [
    "plt.figure(figsize=(12,9))\n",
    "sns.barplot(x='STRAP TYPE',y='ORIGINAL PRICE',data=masterfile,hue='BRAND')\n",
    "plt.show()"
   ]
  },
  {
   "cell_type": "markdown",
   "metadata": {},
   "source": [
    "# Each brands and the technology they use in thier watches and their prices repectively"
   ]
  },
  {
   "cell_type": "code",
   "execution_count": 65,
   "metadata": {
    "scrolled": false
   },
   "outputs": [
    {
     "data": {
      "image/png": "[encoded data removed]",
      "text/plain": [
       "<Figure size 864x648 with 1 Axes>"
      ]
     },
     "metadata": {
      "needs_background": "light"
     },
     "output_type": "display_data"
    }
   ],
   "source": [
    "plt.figure(figsize=(12,9))\n",
    "sns.barplot(x='TECHNOLOGY',y='ORIGINAL PRICE',data=masterfile,hue='BRAND')\n",
    "plt.show()"
   ]
  },
  {
   "cell_type": "code",
   "execution_count": 364,
   "metadata": {},
   "outputs": [
    {
     "data": {
      "image/png": "[encoded data removed]",
      "text/plain": [
       "<Figure size 432x288 with 1 Axes>"
      ]
     },
     "metadata": {
      "needs_background": "light"
     },
     "output_type": "display_data"
    }
   ],
   "source": [
    "masterfile['TECHNOLOGY'].value_counts().plot(kind='bar')\n",
    "plt.xlabel('Technology used')\n",
    "plt.show()"
   ]
  },
  {
   "cell_type": "code",
   "execution_count": null,
   "metadata": {},
   "outputs": [],
   "source": [
    "#"
   ]
  },
  {
   "cell_type": "code",
   "execution_count": 142,
   "metadata": {
    "scrolled": true
   },
   "outputs": [
    {
     "data": {
      "image/png": "[encoded data removed]",
      "text/plain": [
       "<Figure size 720x360 with 2 Axes>"
      ]
     },
     "metadata": {
      "needs_background": "light"
     },
     "output_type": "display_data"
    }
   ],
   "source": [
    "fig, axes=plt.subplots(1,2,figsize=(10,5))\n",
    "sns.distplot(masterfile['ORIGINAL PRICE'],ax=axes[0])\n",
    "sns.distplot(sales_data['INVOICED AMOUNT '],ax=axes[1])\n",
    "plt.show()"
   ]
  },
  {
   "cell_type": "code",
   "execution_count": null,
   "metadata": {},
   "outputs": [],
   "source": [
    "# Original price and Line up"
   ]
  },
  {
   "cell_type": "code",
   "execution_count": 82,
   "metadata": {
    "scrolled": true
   },
   "outputs": [
    {
     "data": {
      "image/png": "[encoded data removed]",
      "text/plain": [
       "<Figure size 432x288 with 1 Axes>"
      ]
     },
     "metadata": {
      "needs_background": "light"
     },
     "output_type": "display_data"
    }
   ],
   "source": [
    "masterfile['ORIGINAL PRICE'].groupby(masterfile['LINE_UP']).mean().plot(kind='bar')\n",
    "plt.show()"
   ]
  },
  {
   "cell_type": "markdown",
   "metadata": {},
   "source": [
    "# Each brand focusing on gander based watches"
   ]
  },
  {
   "cell_type": "code",
   "execution_count": 83,
   "metadata": {
    "scrolled": false
   },
   "outputs": [
    {
     "data": {
      "image/png": "[encoded data removed]",
      "text/plain": [
       "<Figure size 864x648 with 1 Axes>"
      ]
     },
     "metadata": {
      "needs_background": "light"
     },
     "output_type": "display_data"
    }
   ],
   "source": [
    "plt.figure(figsize=(12,9))\n",
    "sns.barplot(x='GENDER',y='ORIGINAL PRICE',data=masterfile,hue='BRAND')\n",
    "plt.show()"
   ]
  },
  {
   "cell_type": "markdown",
   "metadata": {},
   "source": [
    "# Most of sales are happening in 12th month"
   ]
  },
  {
   "cell_type": "code",
   "execution_count": 350,
   "metadata": {
    "scrolled": true
   },
   "outputs": [
    {
     "data": {
      "image/png": "[encoded data removed]",
      "text/plain": [
       "<Figure size 864x648 with 1 Axes>"
      ]
     },
     "metadata": {
      "needs_background": "light"
     },
     "output_type": "display_data"
    }
   ],
   "source": [
    "plt.figure(figsize=(12,9))\n",
    "sales_data['INVOICED UNITS'].groupby(sales_data['TRANS POSTED MONTH']).count().plot(kind='bar')\n",
    "plt.xlabel('Months')\n",
    "plt.ylabel('Units Sold')\n",
    "plt.show()"
   ]
  },
  {
   "cell_type": "code",
   "execution_count": 231,
   "metadata": {
    "scrolled": true
   },
   "outputs": [
    {
     "data": {
      "image/png": "[encoded data removed]",
      "text/plain": [
       "<Figure size 864x648 with 1 Axes>"
      ]
     },
     "metadata": {
      "needs_background": "light"
     },
     "output_type": "display_data"
    }
   ],
   "source": [
    "plt.figure(figsize=(12,9))\n",
    "sales_data['SKU'].groupby(sales_data['TRANS POSTED MONTH']).count().plot(kind='bar')\n",
    "plt.show()"
   ]
  },
  {
   "cell_type": "markdown",
   "metadata": {},
   "source": [
    "# Location wise sales"
   ]
  },
  {
   "cell_type": "code",
   "execution_count": 353,
   "metadata": {
    "scrolled": false
   },
   "outputs": [
    {
     "data": {
      "image/png": "[encoded data removed]",
      "text/plain": [
       "<Figure size 720x576 with 1 Axes>"
      ]
     },
     "metadata": {
      "needs_background": "light"
     },
     "output_type": "display_data"
    }
   ],
   "source": [
    "plt.figure(figsize=(10,8))\n",
    "sales_data['LOCATION CODE'].value_counts().plot(kind='bar')\n",
    "plt.xlabel('Location')\n",
    "plt.ylabel('Units Sold')\n",
    "plt.show()"
   ]
  },
  {
   "cell_type": "code",
   "execution_count": 238,
   "metadata": {},
   "outputs": [
    {
     "data": {
      "text/plain": [
       "2123.2106996904113"
      ]
     },
     "execution_count": 238,
     "metadata": {},
     "output_type": "execute_result"
    }
   ],
   "source": [
    "sales_data[sales_data['BRAND']=='Brand A']['INVOICED AMOUNT '].mean()"
   ]
  },
  {
   "cell_type": "code",
   "execution_count": 239,
   "metadata": {},
   "outputs": [
    {
     "data": {
      "text/plain": [
       "4183.139980198018"
      ]
     },
     "execution_count": 239,
     "metadata": {},
     "output_type": "execute_result"
    }
   ],
   "source": [
    "sales_data[sales_data['BRAND']=='Brand B']['INVOICED AMOUNT '].mean()"
   ]
  },
  {
   "cell_type": "code",
   "execution_count": 241,
   "metadata": {},
   "outputs": [
    {
     "data": {
      "text/plain": [
       "2576.6635895972468"
      ]
     },
     "execution_count": 241,
     "metadata": {},
     "output_type": "execute_result"
    }
   ],
   "source": [
    "sales_data[sales_data['BRAND']=='Brand C']['INVOICED AMOUNT '].mean()"
   ]
  },
  {
   "cell_type": "code",
   "execution_count": 146,
   "metadata": {},
   "outputs": [
    {
     "data": {
      "image/png": "[encoded data removed]",
      "text/plain": [
       "<Figure size 432x288 with 1 Axes>"
      ]
     },
     "metadata": {
      "needs_background": "light"
     },
     "output_type": "display_data"
    }
   ],
   "source": [
    "sns.barplot(x='BRAND',y='INVOICED AMOUNT ',data=sales_data,palette='vlag')\n",
    "plt.show()"
   ]
  },
  {
   "cell_type": "markdown",
   "metadata": {},
   "source": [
    "# People from location 2,9,18 are going for more expensive watches"
   ]
  },
  {
   "cell_type": "code",
   "execution_count": 359,
   "metadata": {
    "scrolled": true
   },
   "outputs": [
    {
     "data": {
      "image/png": "[encoded data removed]",
      "text/plain": [
       "<Figure size 1080x864 with 1 Axes>"
      ]
     },
     "metadata": {
      "needs_background": "light"
     },
     "output_type": "display_data"
    }
   ],
   "source": [
    "plt.figure(figsize=(15,12))\n",
    "sns.barplot(x='LOCATION CODE',y='INVOICED AMOUNT ',data=sales_data,hue='BRAND',palette='rocket')\n",
    "plt.xlabel('Location')\n",
    "plt.ylabel('Average Amount')\n",
    "plt.show()"
   ]
  },
  {
   "cell_type": "code",
   "execution_count": 247,
   "metadata": {
    "scrolled": true
   },
   "outputs": [
    {
     "data": {
      "text/html": [
       "<div>\n",
       "<style scoped>\n",
       "    .dataframe tbody tr th:only-of-type {\n",
       "        vertical-align: middle;\n",
       "    }\n",
       "\n",
       "    .dataframe tbody tr th {\n",
       "        vertical-align: top;\n",
       "    }\n",
       "\n",
       "    .dataframe thead th {\n",
       "        text-align: right;\n",
       "    }\n",
       "</style>\n",
       "<table border=\"1\" class=\"dataframe\">\n",
       "  <thead>\n",
       "    <tr style=\"text-align: right;\">\n",
       "      <th></th>\n",
       "      <th>TRANS POSTED DATE</th>\n",
       "      <th>TRANS ACTUAL DATE</th>\n",
       "      <th>TRANS POSTED YEAR</th>\n",
       "      <th>TRANS POSTED MONTH</th>\n",
       "      <th>TRANS POSTED DAY</th>\n",
       "      <th>TRANS POSTED WK</th>\n",
       "      <th>TRANS ACTUAL YEAR</th>\n",
       "      <th>TRANS ACTUAL MONTH</th>\n",
       "      <th>TRANS ACTUAL DAY</th>\n",
       "      <th>TRANS ACTUAL WK</th>\n",
       "      <th>...</th>\n",
       "      <th>TRANS DOC NUMBER</th>\n",
       "      <th>LOCATION CODE</th>\n",
       "      <th>BRAND</th>\n",
       "      <th>SKU</th>\n",
       "      <th>INVOICED UNITS</th>\n",
       "      <th>CREDIT MEMO UNITS</th>\n",
       "      <th>NET SALES UNITS</th>\n",
       "      <th>UNIT PRICE</th>\n",
       "      <th>INVOICED AMOUNT</th>\n",
       "      <th>SALES ACTIVITY CODE</th>\n",
       "    </tr>\n",
       "  </thead>\n",
       "  <tbody>\n",
       "    <tr>\n",
       "      <th>8574</th>\n",
       "      <td>10/24/2018</td>\n",
       "      <td>10/24/2018</td>\n",
       "      <td>2018</td>\n",
       "      <td>10</td>\n",
       "      <td>24</td>\n",
       "      <td>43</td>\n",
       "      <td>2018</td>\n",
       "      <td>10</td>\n",
       "      <td>24</td>\n",
       "      <td>43</td>\n",
       "      <td>...</td>\n",
       "      <td>NTSLS-0000166675</td>\n",
       "      <td>Loc 9</td>\n",
       "      <td>Brand C</td>\n",
       "      <td>TW00H714E</td>\n",
       "      <td>-2</td>\n",
       "      <td>0</td>\n",
       "      <td>-2</td>\n",
       "      <td>2990</td>\n",
       "      <td>-5382.0</td>\n",
       "      <td>REGULAR</td>\n",
       "    </tr>\n",
       "  </tbody>\n",
       "</table>\n",
       "<p>1 rows × 21 columns</p>\n",
       "</div>"
      ],
      "text/plain": [
       "     TRANS POSTED DATE TRANS ACTUAL DATE  TRANS POSTED YEAR  \\\n",
       "8574        10/24/2018        10/24/2018               2018   \n",
       "\n",
       "      TRANS POSTED MONTH  TRANS POSTED DAY  TRANS POSTED WK  \\\n",
       "8574                  10                24               43   \n",
       "\n",
       "      TRANS ACTUAL YEAR  TRANS ACTUAL MONTH  TRANS ACTUAL DAY  \\\n",
       "8574               2018                  10                24   \n",
       "\n",
       "      TRANS ACTUAL WK  ...  TRANS DOC NUMBER LOCATION CODE    BRAND  \\\n",
       "8574               43  ...  NTSLS-0000166675         Loc 9  Brand C   \n",
       "\n",
       "            SKU INVOICED UNITS  CREDIT MEMO UNITS  NET SALES UNITS  \\\n",
       "8574  TW00H714E             -2                  0               -2   \n",
       "\n",
       "      UNIT PRICE  INVOICED AMOUNT   SALES ACTIVITY CODE  \n",
       "8574        2990           -5382.0              REGULAR  \n",
       "\n",
       "[1 rows x 21 columns]"
      ]
     },
     "execution_count": 247,
     "metadata": {},
     "output_type": "execute_result"
    }
   ],
   "source": [
    "sales_data[sales_data['INVOICED UNITS']==-2]"
   ]
  },
  {
   "cell_type": "markdown",
   "metadata": {},
   "source": [
    "#  Clustering using K-means on sales data and Brand A"
   ]
  },
  {
   "cell_type": "code",
   "execution_count": 257,
   "metadata": {},
   "outputs": [
    {
     "data": {
      "text/html": [
       "<div>\n",
       "<style scoped>\n",
       "    .dataframe tbody tr th:only-of-type {\n",
       "        vertical-align: middle;\n",
       "    }\n",
       "\n",
       "    .dataframe tbody tr th {\n",
       "        vertical-align: top;\n",
       "    }\n",
       "\n",
       "    .dataframe thead th {\n",
       "        text-align: right;\n",
       "    }\n",
       "</style>\n",
       "<table border=\"1\" class=\"dataframe\">\n",
       "  <thead>\n",
       "    <tr style=\"text-align: right;\">\n",
       "      <th></th>\n",
       "      <th>TRANS POSTED DATE</th>\n",
       "      <th>TRANS ACTUAL DATE</th>\n",
       "      <th>TRANS POSTED YEAR</th>\n",
       "      <th>TRANS POSTED MONTH</th>\n",
       "      <th>TRANS POSTED DAY</th>\n",
       "      <th>TRANS POSTED WK</th>\n",
       "      <th>TRANS ACTUAL YEAR</th>\n",
       "      <th>TRANS ACTUAL MONTH</th>\n",
       "      <th>TRANS ACTUAL DAY</th>\n",
       "      <th>TRANS ACTUAL WK</th>\n",
       "      <th>TRANS TYPE</th>\n",
       "      <th>TRANS DOC NUMBER</th>\n",
       "      <th>LOCATION CODE</th>\n",
       "      <th>SKU</th>\n",
       "      <th>INVOICED UNITS</th>\n",
       "      <th>CREDIT MEMO UNITS</th>\n",
       "      <th>NET SALES UNITS</th>\n",
       "      <th>UNIT PRICE</th>\n",
       "      <th>INVOICED AMOUNT</th>\n",
       "      <th>SALES ACTIVITY CODE</th>\n",
       "    </tr>\n",
       "  </thead>\n",
       "  <tbody>\n",
       "    <tr>\n",
       "      <th>0</th>\n",
       "      <td>06-01-2018</td>\n",
       "      <td>06-01-2018</td>\n",
       "      <td>2018</td>\n",
       "      <td>6</td>\n",
       "      <td>1</td>\n",
       "      <td>22</td>\n",
       "      <td>2018</td>\n",
       "      <td>6</td>\n",
       "      <td>1</td>\n",
       "      <td>22</td>\n",
       "      <td>SI-ITEMS</td>\n",
       "      <td>PSINV-0383354</td>\n",
       "      <td>Loc 3</td>\n",
       "      <td>AE1242-0103</td>\n",
       "      <td>1</td>\n",
       "      <td>0</td>\n",
       "      <td>1</td>\n",
       "      <td>1890</td>\n",
       "      <td>1305.80</td>\n",
       "      <td>SP20</td>\n",
       "    </tr>\n",
       "    <tr>\n",
       "      <th>1</th>\n",
       "      <td>06-01-2018</td>\n",
       "      <td>06-01-2018</td>\n",
       "      <td>2018</td>\n",
       "      <td>6</td>\n",
       "      <td>1</td>\n",
       "      <td>22</td>\n",
       "      <td>2018</td>\n",
       "      <td>6</td>\n",
       "      <td>1</td>\n",
       "      <td>22</td>\n",
       "      <td>SI-ITEMS</td>\n",
       "      <td>PSINV-0383354</td>\n",
       "      <td>Loc 3</td>\n",
       "      <td>AE1243-0103</td>\n",
       "      <td>1</td>\n",
       "      <td>0</td>\n",
       "      <td>1</td>\n",
       "      <td>1890</td>\n",
       "      <td>1305.80</td>\n",
       "      <td>SP20</td>\n",
       "    </tr>\n",
       "    <tr>\n",
       "      <th>2</th>\n",
       "      <td>06-01-2018</td>\n",
       "      <td>06-01-2018</td>\n",
       "      <td>2018</td>\n",
       "      <td>6</td>\n",
       "      <td>1</td>\n",
       "      <td>22</td>\n",
       "      <td>2018</td>\n",
       "      <td>6</td>\n",
       "      <td>1</td>\n",
       "      <td>22</td>\n",
       "      <td>SI-ITEMS</td>\n",
       "      <td>PSINV-0383354</td>\n",
       "      <td>Loc 3</td>\n",
       "      <td>AE2243-0103</td>\n",
       "      <td>1</td>\n",
       "      <td>0</td>\n",
       "      <td>1</td>\n",
       "      <td>1890</td>\n",
       "      <td>1305.80</td>\n",
       "      <td>SP20</td>\n",
       "    </tr>\n",
       "    <tr>\n",
       "      <th>3</th>\n",
       "      <td>06-01-2018</td>\n",
       "      <td>06-01-2018</td>\n",
       "      <td>2018</td>\n",
       "      <td>6</td>\n",
       "      <td>1</td>\n",
       "      <td>22</td>\n",
       "      <td>2018</td>\n",
       "      <td>6</td>\n",
       "      <td>1</td>\n",
       "      <td>22</td>\n",
       "      <td>SI-ITEMS</td>\n",
       "      <td>PSINV-0383354</td>\n",
       "      <td>Loc 3</td>\n",
       "      <td>AE2245-0103</td>\n",
       "      <td>1</td>\n",
       "      <td>0</td>\n",
       "      <td>1</td>\n",
       "      <td>1890</td>\n",
       "      <td>1305.80</td>\n",
       "      <td>SP20</td>\n",
       "    </tr>\n",
       "    <tr>\n",
       "      <th>4</th>\n",
       "      <td>06-01-2018</td>\n",
       "      <td>06-01-2018</td>\n",
       "      <td>2018</td>\n",
       "      <td>6</td>\n",
       "      <td>1</td>\n",
       "      <td>22</td>\n",
       "      <td>2018</td>\n",
       "      <td>6</td>\n",
       "      <td>1</td>\n",
       "      <td>22</td>\n",
       "      <td>SI-ITEMS</td>\n",
       "      <td>PSINV-0383354</td>\n",
       "      <td>Loc 3</td>\n",
       "      <td>AL2259-1812</td>\n",
       "      <td>1</td>\n",
       "      <td>0</td>\n",
       "      <td>1</td>\n",
       "      <td>4890</td>\n",
       "      <td>3378.51</td>\n",
       "      <td>REGULAR</td>\n",
       "    </tr>\n",
       "    <tr>\n",
       "      <th>...</th>\n",
       "      <td>...</td>\n",
       "      <td>...</td>\n",
       "      <td>...</td>\n",
       "      <td>...</td>\n",
       "      <td>...</td>\n",
       "      <td>...</td>\n",
       "      <td>...</td>\n",
       "      <td>...</td>\n",
       "      <td>...</td>\n",
       "      <td>...</td>\n",
       "      <td>...</td>\n",
       "      <td>...</td>\n",
       "      <td>...</td>\n",
       "      <td>...</td>\n",
       "      <td>...</td>\n",
       "      <td>...</td>\n",
       "      <td>...</td>\n",
       "      <td>...</td>\n",
       "      <td>...</td>\n",
       "      <td>...</td>\n",
       "    </tr>\n",
       "    <tr>\n",
       "      <th>1610</th>\n",
       "      <td>12/31/2018</td>\n",
       "      <td>12/31/2018</td>\n",
       "      <td>2018</td>\n",
       "      <td>12</td>\n",
       "      <td>31</td>\n",
       "      <td>1</td>\n",
       "      <td>2018</td>\n",
       "      <td>12</td>\n",
       "      <td>31</td>\n",
       "      <td>1</td>\n",
       "      <td>SI-ITEMS</td>\n",
       "      <td>PSINV-0432006</td>\n",
       "      <td>Loc 19</td>\n",
       "      <td>AE1247-1216</td>\n",
       "      <td>1</td>\n",
       "      <td>0</td>\n",
       "      <td>1</td>\n",
       "      <td>2890</td>\n",
       "      <td>2109.70</td>\n",
       "      <td>BOGO</td>\n",
       "    </tr>\n",
       "    <tr>\n",
       "      <th>1611</th>\n",
       "      <td>12/31/2018</td>\n",
       "      <td>12/31/2018</td>\n",
       "      <td>2018</td>\n",
       "      <td>12</td>\n",
       "      <td>31</td>\n",
       "      <td>1</td>\n",
       "      <td>2018</td>\n",
       "      <td>12</td>\n",
       "      <td>31</td>\n",
       "      <td>1</td>\n",
       "      <td>SI-ITEMS</td>\n",
       "      <td>PSINV-0432006</td>\n",
       "      <td>Loc 19</td>\n",
       "      <td>AE1248A-0102</td>\n",
       "      <td>1</td>\n",
       "      <td>0</td>\n",
       "      <td>1</td>\n",
       "      <td>1590</td>\n",
       "      <td>1160.70</td>\n",
       "      <td>MYSMD</td>\n",
       "    </tr>\n",
       "    <tr>\n",
       "      <th>1612</th>\n",
       "      <td>12/31/2018</td>\n",
       "      <td>12/31/2018</td>\n",
       "      <td>2018</td>\n",
       "      <td>12</td>\n",
       "      <td>31</td>\n",
       "      <td>1</td>\n",
       "      <td>2018</td>\n",
       "      <td>12</td>\n",
       "      <td>31</td>\n",
       "      <td>1</td>\n",
       "      <td>SI-ITEMS</td>\n",
       "      <td>PSINV-0432006</td>\n",
       "      <td>Loc 19</td>\n",
       "      <td>AH1269-0201</td>\n",
       "      <td>1</td>\n",
       "      <td>0</td>\n",
       "      <td>1</td>\n",
       "      <td>3590</td>\n",
       "      <td>2620.70</td>\n",
       "      <td>BOGO</td>\n",
       "    </tr>\n",
       "    <tr>\n",
       "      <th>1613</th>\n",
       "      <td>12/31/2018</td>\n",
       "      <td>12/31/2018</td>\n",
       "      <td>2018</td>\n",
       "      <td>12</td>\n",
       "      <td>31</td>\n",
       "      <td>1</td>\n",
       "      <td>2018</td>\n",
       "      <td>12</td>\n",
       "      <td>31</td>\n",
       "      <td>1</td>\n",
       "      <td>SI-ITEMS</td>\n",
       "      <td>PSINV-0432468</td>\n",
       "      <td>Loc 18</td>\n",
       "      <td>AE2302-0110</td>\n",
       "      <td>1</td>\n",
       "      <td>0</td>\n",
       "      <td>1</td>\n",
       "      <td>2890</td>\n",
       "      <td>2109.70</td>\n",
       "      <td>BOGO</td>\n",
       "    </tr>\n",
       "    <tr>\n",
       "      <th>1614</th>\n",
       "      <td>12/31/2018</td>\n",
       "      <td>12/31/2018</td>\n",
       "      <td>2018</td>\n",
       "      <td>12</td>\n",
       "      <td>31</td>\n",
       "      <td>1</td>\n",
       "      <td>2018</td>\n",
       "      <td>12</td>\n",
       "      <td>31</td>\n",
       "      <td>1</td>\n",
       "      <td>SI-ITEMS</td>\n",
       "      <td>PSINV-0432474</td>\n",
       "      <td>Loc 18</td>\n",
       "      <td>AE1304-0102</td>\n",
       "      <td>1</td>\n",
       "      <td>0</td>\n",
       "      <td>1</td>\n",
       "      <td>1590</td>\n",
       "      <td>1160.70</td>\n",
       "      <td>MYSMD</td>\n",
       "    </tr>\n",
       "  </tbody>\n",
       "</table>\n",
       "<p>1615 rows × 20 columns</p>\n",
       "</div>"
      ],
      "text/plain": [
       "     TRANS POSTED DATE TRANS ACTUAL DATE  TRANS POSTED YEAR  \\\n",
       "0           06-01-2018        06-01-2018               2018   \n",
       "1           06-01-2018        06-01-2018               2018   \n",
       "2           06-01-2018        06-01-2018               2018   \n",
       "3           06-01-2018        06-01-2018               2018   \n",
       "4           06-01-2018        06-01-2018               2018   \n",
       "...                ...               ...                ...   \n",
       "1610        12/31/2018        12/31/2018               2018   \n",
       "1611        12/31/2018        12/31/2018               2018   \n",
       "1612        12/31/2018        12/31/2018               2018   \n",
       "1613        12/31/2018        12/31/2018               2018   \n",
       "1614        12/31/2018        12/31/2018               2018   \n",
       "\n",
       "      TRANS POSTED MONTH  TRANS POSTED DAY  TRANS POSTED WK  \\\n",
       "0                      6                 1               22   \n",
       "1                      6                 1               22   \n",
       "2                      6                 1               22   \n",
       "3                      6                 1               22   \n",
       "4                      6                 1               22   \n",
       "...                  ...               ...              ...   \n",
       "1610                  12                31                1   \n",
       "1611                  12                31                1   \n",
       "1612                  12                31                1   \n",
       "1613                  12                31                1   \n",
       "1614                  12                31                1   \n",
       "\n",
       "      TRANS ACTUAL YEAR  TRANS ACTUAL MONTH  TRANS ACTUAL DAY  \\\n",
       "0                  2018                   6                 1   \n",
       "1                  2018                   6                 1   \n",
       "2                  2018                   6                 1   \n",
       "3                  2018                   6                 1   \n",
       "4                  2018                   6                 1   \n",
       "...                 ...                 ...               ...   \n",
       "1610               2018                  12                31   \n",
       "1611               2018                  12                31   \n",
       "1612               2018                  12                31   \n",
       "1613               2018                  12                31   \n",
       "1614               2018                  12                31   \n",
       "\n",
       "      TRANS ACTUAL WK TRANS TYPE TRANS DOC NUMBER LOCATION CODE           SKU  \\\n",
       "0                  22   SI-ITEMS    PSINV-0383354         Loc 3   AE1242-0103   \n",
       "1                  22   SI-ITEMS    PSINV-0383354         Loc 3   AE1243-0103   \n",
       "2                  22   SI-ITEMS    PSINV-0383354         Loc 3   AE2243-0103   \n",
       "3                  22   SI-ITEMS    PSINV-0383354         Loc 3   AE2245-0103   \n",
       "4                  22   SI-ITEMS    PSINV-0383354         Loc 3   AL2259-1812   \n",
       "...               ...        ...              ...           ...           ...   \n",
       "1610                1   SI-ITEMS    PSINV-0432006        Loc 19   AE1247-1216   \n",
       "1611                1   SI-ITEMS    PSINV-0432006        Loc 19  AE1248A-0102   \n",
       "1612                1   SI-ITEMS    PSINV-0432006        Loc 19   AH1269-0201   \n",
       "1613                1   SI-ITEMS    PSINV-0432468        Loc 18   AE2302-0110   \n",
       "1614                1   SI-ITEMS    PSINV-0432474        Loc 18   AE1304-0102   \n",
       "\n",
       "      INVOICED UNITS  CREDIT MEMO UNITS  NET SALES UNITS  UNIT PRICE  \\\n",
       "0                  1                  0                1        1890   \n",
       "1                  1                  0                1        1890   \n",
       "2                  1                  0                1        1890   \n",
       "3                  1                  0                1        1890   \n",
       "4                  1                  0                1        4890   \n",
       "...              ...                ...              ...         ...   \n",
       "1610               1                  0                1        2890   \n",
       "1611               1                  0                1        1590   \n",
       "1612               1                  0                1        3590   \n",
       "1613               1                  0                1        2890   \n",
       "1614               1                  0                1        1590   \n",
       "\n",
       "      INVOICED AMOUNT  SALES ACTIVITY CODE  \n",
       "0              1305.80                SP20  \n",
       "1              1305.80                SP20  \n",
       "2              1305.80                SP20  \n",
       "3              1305.80                SP20  \n",
       "4              3378.51             REGULAR  \n",
       "...                ...                 ...  \n",
       "1610           2109.70                BOGO  \n",
       "1611           1160.70               MYSMD  \n",
       "1612           2620.70                BOGO  \n",
       "1613           2109.70                BOGO  \n",
       "1614           1160.70               MYSMD  \n",
       "\n",
       "[1615 rows x 20 columns]"
      ]
     },
     "execution_count": 257,
     "metadata": {},
     "output_type": "execute_result"
    }
   ],
   "source": [
    "brand_A=sales_data[sales_data['BRAND']=='Brand A'].reset_index().drop(['index','BRAND'],axis=1)\n",
    "brand_A"
   ]
  },
  {
   "cell_type": "code",
   "execution_count": 292,
   "metadata": {},
   "outputs": [
    {
     "data": {
      "text/plain": [
       "(1615, 20)"
      ]
     },
     "execution_count": 292,
     "metadata": {},
     "output_type": "execute_result"
    }
   ],
   "source": [
    "brand_A.shape"
   ]
  },
  {
   "cell_type": "code",
   "execution_count": 303,
   "metadata": {},
   "outputs": [],
   "source": [
    "from scipy.stats import zscore\n",
    "from sklearn.cluster import KMeans"
   ]
  },
  {
   "cell_type": "markdown",
   "metadata": {},
   "source": [
    "# Applying zscore to the prices column and scaling them\n"
   ]
  },
  {
   "cell_type": "code",
   "execution_count": 287,
   "metadata": {},
   "outputs": [],
   "source": [
    "data=zscore(brand_A[['UNIT PRICE','INVOICED AMOUNT ']])"
   ]
  },
  {
   "cell_type": "code",
   "execution_count": 289,
   "metadata": {},
   "outputs": [],
   "source": [
    "data=pd.DataFrame(data)\n"
   ]
  },
  {
   "cell_type": "code",
   "execution_count": 290,
   "metadata": {},
   "outputs": [],
   "source": [
    "data.columns=['UNIT PRICE','INVOICED AMOUNT ']"
   ]
  },
  {
   "cell_type": "code",
   "execution_count": 291,
   "metadata": {
    "scrolled": false
   },
   "outputs": [
    {
     "data": {
      "text/html": [
       "<div>\n",
       "<style scoped>\n",
       "    .dataframe tbody tr th:only-of-type {\n",
       "        vertical-align: middle;\n",
       "    }\n",
       "\n",
       "    .dataframe tbody tr th {\n",
       "        vertical-align: top;\n",
       "    }\n",
       "\n",
       "    .dataframe thead th {\n",
       "        text-align: right;\n",
       "    }\n",
       "</style>\n",
       "<table border=\"1\" class=\"dataframe\">\n",
       "  <thead>\n",
       "    <tr style=\"text-align: right;\">\n",
       "      <th></th>\n",
       "      <th>UNIT PRICE</th>\n",
       "      <th>INVOICED AMOUNT</th>\n",
       "    </tr>\n",
       "  </thead>\n",
       "  <tbody>\n",
       "    <tr>\n",
       "      <th>0</th>\n",
       "      <td>-0.890306</td>\n",
       "      <td>-0.284672</td>\n",
       "    </tr>\n",
       "    <tr>\n",
       "      <th>1</th>\n",
       "      <td>-0.890306</td>\n",
       "      <td>-0.284672</td>\n",
       "    </tr>\n",
       "    <tr>\n",
       "      <th>2</th>\n",
       "      <td>-0.890306</td>\n",
       "      <td>-0.284672</td>\n",
       "    </tr>\n",
       "    <tr>\n",
       "      <th>3</th>\n",
       "      <td>-0.890306</td>\n",
       "      <td>-0.284672</td>\n",
       "    </tr>\n",
       "    <tr>\n",
       "      <th>4</th>\n",
       "      <td>2.410021</td>\n",
       "      <td>0.437171</td>\n",
       "    </tr>\n",
       "    <tr>\n",
       "      <th>...</th>\n",
       "      <td>...</td>\n",
       "      <td>...</td>\n",
       "    </tr>\n",
       "    <tr>\n",
       "      <th>1610</th>\n",
       "      <td>0.209803</td>\n",
       "      <td>-0.004705</td>\n",
       "    </tr>\n",
       "    <tr>\n",
       "      <th>1611</th>\n",
       "      <td>-1.220338</td>\n",
       "      <td>-0.335204</td>\n",
       "    </tr>\n",
       "    <tr>\n",
       "      <th>1612</th>\n",
       "      <td>0.979880</td>\n",
       "      <td>0.173256</td>\n",
       "    </tr>\n",
       "    <tr>\n",
       "      <th>1613</th>\n",
       "      <td>0.209803</td>\n",
       "      <td>-0.004705</td>\n",
       "    </tr>\n",
       "    <tr>\n",
       "      <th>1614</th>\n",
       "      <td>-1.220338</td>\n",
       "      <td>-0.335204</td>\n",
       "    </tr>\n",
       "  </tbody>\n",
       "</table>\n",
       "<p>1615 rows × 2 columns</p>\n",
       "</div>"
      ],
      "text/plain": [
       "      UNIT PRICE  INVOICED AMOUNT \n",
       "0      -0.890306         -0.284672\n",
       "1      -0.890306         -0.284672\n",
       "2      -0.890306         -0.284672\n",
       "3      -0.890306         -0.284672\n",
       "4       2.410021          0.437171\n",
       "...          ...               ...\n",
       "1610    0.209803         -0.004705\n",
       "1611   -1.220338         -0.335204\n",
       "1612    0.979880          0.173256\n",
       "1613    0.209803         -0.004705\n",
       "1614   -1.220338         -0.335204\n",
       "\n",
       "[1615 rows x 2 columns]"
      ]
     },
     "execution_count": 291,
     "metadata": {},
     "output_type": "execute_result"
    }
   ],
   "source": [
    "data"
   ]
  },
  {
   "cell_type": "code",
   "execution_count": 296,
   "metadata": {},
   "outputs": [],
   "source": [
    "brand_A=brand_A.drop(['UNIT PRICE','INVOICED AMOUNT '],axis=1)"
   ]
  },
  {
   "cell_type": "code",
   "execution_count": 299,
   "metadata": {},
   "outputs": [],
   "source": [
    "brand_A=pd.concat([brand_A,data],axis=1)"
   ]
  },
  {
   "cell_type": "code",
   "execution_count": 300,
   "metadata": {},
   "outputs": [
    {
     "data": {
      "text/plain": [
       "(1615, 20)"
      ]
     },
     "execution_count": 300,
     "metadata": {},
     "output_type": "execute_result"
    }
   ],
   "source": [
    "brand_A.shape"
   ]
  },
  {
   "cell_type": "code",
   "execution_count": 306,
   "metadata": {
    "scrolled": false
   },
   "outputs": [
    {
     "name": "stdout",
     "output_type": "stream",
     "text": [
      "<class 'pandas.core.frame.DataFrame'>\n",
      "RangeIndex: 1615 entries, 0 to 1614\n",
      "Data columns (total 20 columns):\n",
      " #   Column               Non-Null Count  Dtype  \n",
      "---  ------               --------------  -----  \n",
      " 0   TRANS POSTED DATE    1615 non-null   object \n",
      " 1   TRANS ACTUAL DATE    1615 non-null   object \n",
      " 2   TRANS POSTED YEAR    1615 non-null   int64  \n",
      " 3   TRANS POSTED MONTH   1615 non-null   int64  \n",
      " 4   TRANS POSTED DAY     1615 non-null   int64  \n",
      " 5   TRANS POSTED WK      1615 non-null   int64  \n",
      " 6   TRANS ACTUAL YEAR    1615 non-null   int64  \n",
      " 7   TRANS ACTUAL MONTH   1615 non-null   int64  \n",
      " 8   TRANS ACTUAL DAY     1615 non-null   int64  \n",
      " 9   TRANS ACTUAL WK      1615 non-null   int64  \n",
      " 10  TRANS TYPE           1615 non-null   object \n",
      " 11  TRANS DOC NUMBER     1615 non-null   object \n",
      " 12  LOCATION CODE        1615 non-null   object \n",
      " 13  SKU                  1615 non-null   object \n",
      " 14  INVOICED UNITS       1615 non-null   int64  \n",
      " 15  CREDIT MEMO UNITS    1615 non-null   int64  \n",
      " 16  NET SALES UNITS      1615 non-null   int64  \n",
      " 17  SALES ACTIVITY CODE  1615 non-null   object \n",
      " 18  UNIT PRICE           1615 non-null   float64\n",
      " 19  INVOICED AMOUNT      1615 non-null   float64\n",
      "dtypes: float64(2), int64(11), object(7)\n",
      "memory usage: 252.5+ KB\n"
     ]
    }
   ],
   "source": [
    "brand_A.info()"
   ]
  },
  {
   "cell_type": "markdown",
   "metadata": {},
   "source": [
    "# Dropping repeated and object type columns"
   ]
  },
  {
   "cell_type": "code",
   "execution_count": 309,
   "metadata": {},
   "outputs": [],
   "source": [
    "brand_A.drop(['TRANS POSTED DATE','TRANS ACTUAL DATE','TRANS TYPE','TRANS DOC NUMBER','LOCATION CODE','SKU','SALES ACTIVITY CODE',\n",
    "              'TRANS POSTED YEAR','TRANS ACTUAL YEAR'],axis=1,inplace=True)"
   ]
  },
  {
   "cell_type": "code",
   "execution_count": 310,
   "metadata": {
    "scrolled": false
   },
   "outputs": [
    {
     "data": {
      "text/html": [
       "<div>\n",
       "<style scoped>\n",
       "    .dataframe tbody tr th:only-of-type {\n",
       "        vertical-align: middle;\n",
       "    }\n",
       "\n",
       "    .dataframe tbody tr th {\n",
       "        vertical-align: top;\n",
       "    }\n",
       "\n",
       "    .dataframe thead th {\n",
       "        text-align: right;\n",
       "    }\n",
       "</style>\n",
       "<table border=\"1\" class=\"dataframe\">\n",
       "  <thead>\n",
       "    <tr style=\"text-align: right;\">\n",
       "      <th></th>\n",
       "      <th>TRANS POSTED MONTH</th>\n",
       "      <th>TRANS POSTED DAY</th>\n",
       "      <th>TRANS POSTED WK</th>\n",
       "      <th>TRANS ACTUAL MONTH</th>\n",
       "      <th>TRANS ACTUAL DAY</th>\n",
       "      <th>TRANS ACTUAL WK</th>\n",
       "      <th>INVOICED UNITS</th>\n",
       "      <th>CREDIT MEMO UNITS</th>\n",
       "      <th>NET SALES UNITS</th>\n",
       "      <th>UNIT PRICE</th>\n",
       "      <th>INVOICED AMOUNT</th>\n",
       "    </tr>\n",
       "  </thead>\n",
       "  <tbody>\n",
       "    <tr>\n",
       "      <th>0</th>\n",
       "      <td>6</td>\n",
       "      <td>1</td>\n",
       "      <td>22</td>\n",
       "      <td>6</td>\n",
       "      <td>1</td>\n",
       "      <td>22</td>\n",
       "      <td>1</td>\n",
       "      <td>0</td>\n",
       "      <td>1</td>\n",
       "      <td>-0.890306</td>\n",
       "      <td>-0.284672</td>\n",
       "    </tr>\n",
       "    <tr>\n",
       "      <th>1</th>\n",
       "      <td>6</td>\n",
       "      <td>1</td>\n",
       "      <td>22</td>\n",
       "      <td>6</td>\n",
       "      <td>1</td>\n",
       "      <td>22</td>\n",
       "      <td>1</td>\n",
       "      <td>0</td>\n",
       "      <td>1</td>\n",
       "      <td>-0.890306</td>\n",
       "      <td>-0.284672</td>\n",
       "    </tr>\n",
       "    <tr>\n",
       "      <th>2</th>\n",
       "      <td>6</td>\n",
       "      <td>1</td>\n",
       "      <td>22</td>\n",
       "      <td>6</td>\n",
       "      <td>1</td>\n",
       "      <td>22</td>\n",
       "      <td>1</td>\n",
       "      <td>0</td>\n",
       "      <td>1</td>\n",
       "      <td>-0.890306</td>\n",
       "      <td>-0.284672</td>\n",
       "    </tr>\n",
       "    <tr>\n",
       "      <th>3</th>\n",
       "      <td>6</td>\n",
       "      <td>1</td>\n",
       "      <td>22</td>\n",
       "      <td>6</td>\n",
       "      <td>1</td>\n",
       "      <td>22</td>\n",
       "      <td>1</td>\n",
       "      <td>0</td>\n",
       "      <td>1</td>\n",
       "      <td>-0.890306</td>\n",
       "      <td>-0.284672</td>\n",
       "    </tr>\n",
       "    <tr>\n",
       "      <th>4</th>\n",
       "      <td>6</td>\n",
       "      <td>1</td>\n",
       "      <td>22</td>\n",
       "      <td>6</td>\n",
       "      <td>1</td>\n",
       "      <td>22</td>\n",
       "      <td>1</td>\n",
       "      <td>0</td>\n",
       "      <td>1</td>\n",
       "      <td>2.410021</td>\n",
       "      <td>0.437171</td>\n",
       "    </tr>\n",
       "  </tbody>\n",
       "</table>\n",
       "</div>"
      ],
      "text/plain": [
       "   TRANS POSTED MONTH  TRANS POSTED DAY  TRANS POSTED WK  TRANS ACTUAL MONTH  \\\n",
       "0                   6                 1               22                   6   \n",
       "1                   6                 1               22                   6   \n",
       "2                   6                 1               22                   6   \n",
       "3                   6                 1               22                   6   \n",
       "4                   6                 1               22                   6   \n",
       "\n",
       "   TRANS ACTUAL DAY  TRANS ACTUAL WK  INVOICED UNITS  CREDIT MEMO UNITS  \\\n",
       "0                 1               22               1                  0   \n",
       "1                 1               22               1                  0   \n",
       "2                 1               22               1                  0   \n",
       "3                 1               22               1                  0   \n",
       "4                 1               22               1                  0   \n",
       "\n",
       "   NET SALES UNITS  UNIT PRICE  INVOICED AMOUNT   \n",
       "0                1   -0.890306         -0.284672  \n",
       "1                1   -0.890306         -0.284672  \n",
       "2                1   -0.890306         -0.284672  \n",
       "3                1   -0.890306         -0.284672  \n",
       "4                1    2.410021          0.437171  "
      ]
     },
     "execution_count": 310,
     "metadata": {},
     "output_type": "execute_result"
    }
   ],
   "source": [
    "brand_A.head()"
   ]
  },
  {
   "cell_type": "markdown",
   "metadata": {},
   "source": [
    "# Checking for clusters and errors"
   ]
  },
  {
   "cell_type": "code",
   "execution_count": 313,
   "metadata": {
    "scrolled": true
   },
   "outputs": [
    {
     "data": {
      "text/html": [
       "<div>\n",
       "<style scoped>\n",
       "    .dataframe tbody tr th:only-of-type {\n",
       "        vertical-align: middle;\n",
       "    }\n",
       "\n",
       "    .dataframe tbody tr th {\n",
       "        vertical-align: top;\n",
       "    }\n",
       "\n",
       "    .dataframe thead th {\n",
       "        text-align: right;\n",
       "    }\n",
       "</style>\n",
       "<table border=\"1\" class=\"dataframe\">\n",
       "  <thead>\n",
       "    <tr style=\"text-align: right;\">\n",
       "      <th></th>\n",
       "      <th>num_clusters</th>\n",
       "      <th>cluster_errors</th>\n",
       "    </tr>\n",
       "  </thead>\n",
       "  <tbody>\n",
       "    <tr>\n",
       "      <th>0</th>\n",
       "      <td>1</td>\n",
       "      <td>959778.085449</td>\n",
       "    </tr>\n",
       "    <tr>\n",
       "      <th>1</th>\n",
       "      <td>2</td>\n",
       "      <td>455427.091614</td>\n",
       "    </tr>\n",
       "    <tr>\n",
       "      <th>2</th>\n",
       "      <td>3</td>\n",
       "      <td>281767.994931</td>\n",
       "    </tr>\n",
       "    <tr>\n",
       "      <th>3</th>\n",
       "      <td>4</td>\n",
       "      <td>211416.525944</td>\n",
       "    </tr>\n",
       "    <tr>\n",
       "      <th>4</th>\n",
       "      <td>5</td>\n",
       "      <td>165464.989778</td>\n",
       "    </tr>\n",
       "    <tr>\n",
       "      <th>5</th>\n",
       "      <td>6</td>\n",
       "      <td>133490.612769</td>\n",
       "    </tr>\n",
       "    <tr>\n",
       "      <th>6</th>\n",
       "      <td>7</td>\n",
       "      <td>119248.345300</td>\n",
       "    </tr>\n",
       "    <tr>\n",
       "      <th>7</th>\n",
       "      <td>8</td>\n",
       "      <td>105419.394505</td>\n",
       "    </tr>\n",
       "    <tr>\n",
       "      <th>8</th>\n",
       "      <td>9</td>\n",
       "      <td>96079.859493</td>\n",
       "    </tr>\n",
       "    <tr>\n",
       "      <th>9</th>\n",
       "      <td>10</td>\n",
       "      <td>85567.858903</td>\n",
       "    </tr>\n",
       "    <tr>\n",
       "      <th>10</th>\n",
       "      <td>11</td>\n",
       "      <td>77946.162978</td>\n",
       "    </tr>\n",
       "    <tr>\n",
       "      <th>11</th>\n",
       "      <td>12</td>\n",
       "      <td>69586.787449</td>\n",
       "    </tr>\n",
       "    <tr>\n",
       "      <th>12</th>\n",
       "      <td>13</td>\n",
       "      <td>63771.839994</td>\n",
       "    </tr>\n",
       "    <tr>\n",
       "      <th>13</th>\n",
       "      <td>14</td>\n",
       "      <td>57713.536217</td>\n",
       "    </tr>\n",
       "  </tbody>\n",
       "</table>\n",
       "</div>"
      ],
      "text/plain": [
       "    num_clusters  cluster_errors\n",
       "0              1   959778.085449\n",
       "1              2   455427.091614\n",
       "2              3   281767.994931\n",
       "3              4   211416.525944\n",
       "4              5   165464.989778\n",
       "5              6   133490.612769\n",
       "6              7   119248.345300\n",
       "7              8   105419.394505\n",
       "8              9    96079.859493\n",
       "9             10    85567.858903\n",
       "10            11    77946.162978\n",
       "11            12    69586.787449\n",
       "12            13    63771.839994\n",
       "13            14    57713.536217"
      ]
     },
     "execution_count": 313,
     "metadata": {},
     "output_type": "execute_result"
    }
   ],
   "source": [
    "cluster_range = range( 1,15 )\n",
    "cluster_errors = []\n",
    "for num_clusters in cluster_range:\n",
    "  clusters = KMeans( num_clusters,n_init = 15, random_state=2)\n",
    "  clusters.fit(brand_A)\n",
    "  labels = clusters.labels_\n",
    "  centroids = clusters.cluster_centers_\n",
    "  cluster_errors.append( clusters.inertia_ )\n",
    "clusters_df = pd.DataFrame( { \"num_clusters\":cluster_range, \"cluster_errors\": cluster_errors } )\n",
    "clusters_df[0:15]"
   ]
  },
  {
   "cell_type": "markdown",
   "metadata": {},
   "source": [
    "# Elbow method to determine the number of cluster"
   ]
  },
  {
   "cell_type": "code",
   "execution_count": 315,
   "metadata": {},
   "outputs": [
    {
     "data": {
      "text/plain": [
       "[<matplotlib.lines.Line2D at 0x2728ad6b748>]"
      ]
     },
     "execution_count": 315,
     "metadata": {},
     "output_type": "execute_result"
    },
    {
     "data": {
      "image/png": "[encoded data removed]",
      "text/plain": [
       "<Figure size 864x432 with 1 Axes>"
      ]
     },
     "metadata": {
      "needs_background": "light"
     },
     "output_type": "display_data"
    }
   ],
   "source": [
    "plt.figure(figsize=(12,6))\n",
    "plt.plot( clusters_df.num_clusters, clusters_df.cluster_errors, marker = \"o\" )"
   ]
  },
  {
   "cell_type": "markdown",
   "metadata": {},
   "source": [
    "# As here we could see there is no significant change after 3 clusters in the errors"
   ]
  },
  {
   "cell_type": "markdown",
   "metadata": {},
   "source": [
    "# we will go with 3 clusters in this situation or we could cross check this by another method called silhouette"
   ]
  },
  {
   "cell_type": "code",
   "execution_count": 318,
   "metadata": {},
   "outputs": [],
   "source": [
    "kmeans = KMeans(n_clusters=3, n_init = 15, random_state=0)"
   ]
  },
  {
   "cell_type": "code",
   "execution_count": 319,
   "metadata": {},
   "outputs": [
    {
     "data": {
      "text/plain": [
       "KMeans(algorithm='auto', copy_x=True, init='k-means++', max_iter=300,\n",
       "       n_clusters=3, n_init=15, n_jobs=None, precompute_distances='auto',\n",
       "       random_state=0, tol=0.0001, verbose=0)"
      ]
     },
     "execution_count": 319,
     "metadata": {},
     "output_type": "execute_result"
    }
   ],
   "source": [
    "kmeans.fit(brand_A)"
   ]
  },
  {
   "cell_type": "code",
   "execution_count": 320,
   "metadata": {},
   "outputs": [],
   "source": [
    "centroids=kmeans.cluster_centers_"
   ]
  },
  {
   "cell_type": "code",
   "execution_count": 323,
   "metadata": {},
   "outputs": [
    {
     "data": {
      "text/html": [
       "<div>\n",
       "<style scoped>\n",
       "    .dataframe tbody tr th:only-of-type {\n",
       "        vertical-align: middle;\n",
       "    }\n",
       "\n",
       "    .dataframe tbody tr th {\n",
       "        vertical-align: top;\n",
       "    }\n",
       "\n",
       "    .dataframe thead th {\n",
       "        text-align: right;\n",
       "    }\n",
       "</style>\n",
       "<table border=\"1\" class=\"dataframe\">\n",
       "  <thead>\n",
       "    <tr style=\"text-align: right;\">\n",
       "      <th></th>\n",
       "      <th>TRANS POSTED MONTH</th>\n",
       "      <th>TRANS POSTED DAY</th>\n",
       "      <th>TRANS POSTED WK</th>\n",
       "      <th>TRANS ACTUAL MONTH</th>\n",
       "      <th>TRANS ACTUAL DAY</th>\n",
       "      <th>TRANS ACTUAL WK</th>\n",
       "      <th>INVOICED UNITS</th>\n",
       "      <th>CREDIT MEMO UNITS</th>\n",
       "      <th>NET SALES UNITS</th>\n",
       "      <th>UNIT PRICE</th>\n",
       "      <th>INVOICED AMOUNT</th>\n",
       "    </tr>\n",
       "  </thead>\n",
       "  <tbody>\n",
       "    <tr>\n",
       "      <th>0</th>\n",
       "      <td>11.006234</td>\n",
       "      <td>22.329177</td>\n",
       "      <td>47.159601</td>\n",
       "      <td>10.998753</td>\n",
       "      <td>16.240648</td>\n",
       "      <td>46.273067</td>\n",
       "      <td>1.103491</td>\n",
       "      <td>-9.975062e-03</td>\n",
       "      <td>1.093516</td>\n",
       "      <td>0.013749</td>\n",
       "      <td>0.073328</td>\n",
       "    </tr>\n",
       "    <tr>\n",
       "      <th>1</th>\n",
       "      <td>12.000000</td>\n",
       "      <td>31.000000</td>\n",
       "      <td>1.000000</td>\n",
       "      <td>12.000000</td>\n",
       "      <td>19.495601</td>\n",
       "      <td>51.055718</td>\n",
       "      <td>1.026393</td>\n",
       "      <td>-8.673617e-19</td>\n",
       "      <td>1.026393</td>\n",
       "      <td>-0.079854</td>\n",
       "      <td>-0.037095</td>\n",
       "    </tr>\n",
       "    <tr>\n",
       "      <th>2</th>\n",
       "      <td>7.533898</td>\n",
       "      <td>24.690678</td>\n",
       "      <td>29.618644</td>\n",
       "      <td>7.533898</td>\n",
       "      <td>14.866525</td>\n",
       "      <td>28.307203</td>\n",
       "      <td>0.991525</td>\n",
       "      <td>-8.474576e-03</td>\n",
       "      <td>0.983051</td>\n",
       "      <td>0.034329</td>\n",
       "      <td>-0.097796</td>\n",
       "    </tr>\n",
       "  </tbody>\n",
       "</table>\n",
       "</div>"
      ],
      "text/plain": [
       "   TRANS POSTED MONTH  TRANS POSTED DAY  TRANS POSTED WK  TRANS ACTUAL MONTH  \\\n",
       "0           11.006234         22.329177        47.159601           10.998753   \n",
       "1           12.000000         31.000000         1.000000           12.000000   \n",
       "2            7.533898         24.690678        29.618644            7.533898   \n",
       "\n",
       "   TRANS ACTUAL DAY  TRANS ACTUAL WK  INVOICED UNITS  CREDIT MEMO UNITS  \\\n",
       "0         16.240648        46.273067        1.103491      -9.975062e-03   \n",
       "1         19.495601        51.055718        1.026393      -8.673617e-19   \n",
       "2         14.866525        28.307203        0.991525      -8.474576e-03   \n",
       "\n",
       "   NET SALES UNITS  UNIT PRICE  INVOICED AMOUNT   \n",
       "0         1.093516    0.013749          0.073328  \n",
       "1         1.026393   -0.079854         -0.037095  \n",
       "2         0.983051    0.034329         -0.097796  "
      ]
     },
     "execution_count": 323,
     "metadata": {},
     "output_type": "execute_result"
    }
   ],
   "source": [
    "centroid_df = pd.DataFrame(centroids, columns = list(brand_A))\n",
    "centroid_df"
   ]
  },
  {
   "cell_type": "code",
   "execution_count": 324,
   "metadata": {},
   "outputs": [],
   "source": [
    "## creating a new dataframe only for labels and converting it into categorical variable\n",
    "df_labels = pd.DataFrame(kmeans.labels_ , columns = list(['labels']))\n",
    "\n",
    "df_labels['labels'] = df_labels['labels'].astype('category')"
   ]
  },
  {
   "cell_type": "code",
   "execution_count": 325,
   "metadata": {},
   "outputs": [],
   "source": [
    "brand_A_labeled = brand_A.join(df_labels)"
   ]
  },
  {
   "cell_type": "code",
   "execution_count": 326,
   "metadata": {},
   "outputs": [
    {
     "data": {
      "text/html": [
       "<div>\n",
       "<style scoped>\n",
       "    .dataframe tbody tr th:only-of-type {\n",
       "        vertical-align: middle;\n",
       "    }\n",
       "\n",
       "    .dataframe tbody tr th {\n",
       "        vertical-align: top;\n",
       "    }\n",
       "\n",
       "    .dataframe thead th {\n",
       "        text-align: right;\n",
       "    }\n",
       "</style>\n",
       "<table border=\"1\" class=\"dataframe\">\n",
       "  <thead>\n",
       "    <tr style=\"text-align: right;\">\n",
       "      <th></th>\n",
       "      <th>TRANS POSTED MONTH</th>\n",
       "      <th>TRANS POSTED DAY</th>\n",
       "      <th>TRANS POSTED WK</th>\n",
       "      <th>TRANS ACTUAL MONTH</th>\n",
       "      <th>TRANS ACTUAL DAY</th>\n",
       "      <th>TRANS ACTUAL WK</th>\n",
       "      <th>INVOICED UNITS</th>\n",
       "      <th>CREDIT MEMO UNITS</th>\n",
       "      <th>NET SALES UNITS</th>\n",
       "      <th>UNIT PRICE</th>\n",
       "      <th>INVOICED AMOUNT</th>\n",
       "      <th>labels</th>\n",
       "    </tr>\n",
       "  </thead>\n",
       "  <tbody>\n",
       "    <tr>\n",
       "      <th>414</th>\n",
       "      <td>9</td>\n",
       "      <td>22</td>\n",
       "      <td>38</td>\n",
       "      <td>9</td>\n",
       "      <td>22</td>\n",
       "      <td>38</td>\n",
       "      <td>1</td>\n",
       "      <td>0</td>\n",
       "      <td>1</td>\n",
       "      <td>0.869869</td>\n",
       "      <td>0.293684</td>\n",
       "      <td>0</td>\n",
       "    </tr>\n",
       "    <tr>\n",
       "      <th>415</th>\n",
       "      <td>9</td>\n",
       "      <td>23</td>\n",
       "      <td>39</td>\n",
       "      <td>9</td>\n",
       "      <td>23</td>\n",
       "      <td>39</td>\n",
       "      <td>1</td>\n",
       "      <td>0</td>\n",
       "      <td>1</td>\n",
       "      <td>0.792861</td>\n",
       "      <td>0.451620</td>\n",
       "      <td>0</td>\n",
       "    </tr>\n",
       "    <tr>\n",
       "      <th>416</th>\n",
       "      <td>9</td>\n",
       "      <td>24</td>\n",
       "      <td>39</td>\n",
       "      <td>9</td>\n",
       "      <td>24</td>\n",
       "      <td>39</td>\n",
       "      <td>1</td>\n",
       "      <td>0</td>\n",
       "      <td>1</td>\n",
       "      <td>0.869869</td>\n",
       "      <td>0.293684</td>\n",
       "      <td>0</td>\n",
       "    </tr>\n",
       "    <tr>\n",
       "      <th>440</th>\n",
       "      <td>9</td>\n",
       "      <td>26</td>\n",
       "      <td>39</td>\n",
       "      <td>9</td>\n",
       "      <td>26</td>\n",
       "      <td>39</td>\n",
       "      <td>1</td>\n",
       "      <td>0</td>\n",
       "      <td>1</td>\n",
       "      <td>-0.389756</td>\n",
       "      <td>0.077240</td>\n",
       "      <td>0</td>\n",
       "    </tr>\n",
       "    <tr>\n",
       "      <th>451</th>\n",
       "      <td>9</td>\n",
       "      <td>28</td>\n",
       "      <td>39</td>\n",
       "      <td>9</td>\n",
       "      <td>16</td>\n",
       "      <td>38</td>\n",
       "      <td>1</td>\n",
       "      <td>0</td>\n",
       "      <td>1</td>\n",
       "      <td>-1.108127</td>\n",
       "      <td>-0.262132</td>\n",
       "      <td>0</td>\n",
       "    </tr>\n",
       "  </tbody>\n",
       "</table>\n",
       "</div>"
      ],
      "text/plain": [
       "     TRANS POSTED MONTH  TRANS POSTED DAY  TRANS POSTED WK  \\\n",
       "414                   9                22               38   \n",
       "415                   9                23               39   \n",
       "416                   9                24               39   \n",
       "440                   9                26               39   \n",
       "451                   9                28               39   \n",
       "\n",
       "     TRANS ACTUAL MONTH  TRANS ACTUAL DAY  TRANS ACTUAL WK  INVOICED UNITS  \\\n",
       "414                   9                22               38               1   \n",
       "415                   9                23               39               1   \n",
       "416                   9                24               39               1   \n",
       "440                   9                26               39               1   \n",
       "451                   9                16               38               1   \n",
       "\n",
       "     CREDIT MEMO UNITS  NET SALES UNITS  UNIT PRICE  INVOICED AMOUNT  labels  \n",
       "414                  0                1    0.869869          0.293684      0  \n",
       "415                  0                1    0.792861          0.451620      0  \n",
       "416                  0                1    0.869869          0.293684      0  \n",
       "440                  0                1   -0.389756          0.077240      0  \n",
       "451                  0                1   -1.108127         -0.262132      0  "
      ]
     },
     "execution_count": 326,
     "metadata": {},
     "output_type": "execute_result"
    }
   ],
   "source": [
    "brand_A_clusters= brand_A_labeled.groupby(['labels'])\n",
    "#wine_clusters = wine_data_attr.groupby(['clusters'])\n",
    "df0=brand_A_clusters.get_group(0)\n",
    "df1=brand_A_clusters.get_group(1)\n",
    "df2=brand_A_clusters.get_group(2)\n",
    "finaldf = pd.concat([df0,df1,df2])\n",
    "finaldf.head()"
   ]
  },
  {
   "cell_type": "code",
   "execution_count": 327,
   "metadata": {},
   "outputs": [
    {
     "data": {
      "text/plain": [
       "0    802\n",
       "2    472\n",
       "1    341\n",
       "Name: labels, dtype: int64"
      ]
     },
     "execution_count": 327,
     "metadata": {},
     "output_type": "execute_result"
    }
   ],
   "source": [
    "finaldf['labels'].value_counts()"
   ]
  },
  {
   "cell_type": "markdown",
   "metadata": {},
   "source": [
    "# Similarly we could cluster other brands as well, i.e. brand B and brand C"
   ]
  },
  {
   "cell_type": "code",
   "execution_count": null,
   "metadata": {},
   "outputs": [],
   "source": []
  }
 ],
 "metadata": {
  "kernelspec": {
   "display_name": "Python 3",
   "language": "python",
   "name": "python3"
  },
  "language_info": {
   "codemirror_mode": {
    "name": "ipython",
    "version": 3
   },
   "file_extension": ".py",
   "mimetype": "text/x-python",
   "name": "python",
   "nbconvert_exporter": "python",
   "pygments_lexer": "ipython3",
   "version": "3.7.6"
  }
 },
 "nbformat": 4,
 "nbformat_minor": 4
}
