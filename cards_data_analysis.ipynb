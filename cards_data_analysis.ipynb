{
 "cells": [
  {
   "cell_type": "code",
   "execution_count": 2,
   "metadata": {},
   "outputs": [],
   "source": [
    "import numpy as np\n",
    "import pandas as pd\n",
    "import matplotlib.pyplot as plt\n",
    "import seaborn as sns"
   ]
  },
  {
   "cell_type": "code",
   "execution_count": 23,
   "metadata": {},
   "outputs": [],
   "source": [
    "card=pd.read_csv('card.csv')\n",
    "sales=pd.read_csv('sales.csv')\n",
    "visits=pd.read_csv('visits.csv')"
   ]
  },
  {
   "cell_type": "code",
   "execution_count": 24,
   "metadata": {},
   "outputs": [],
   "source": [
    "visits=visits.rename(columns={'idstore':'idStore'})\n",
    "card.replace(['Female birthday','Female relations','Male birthday','Male relations','Unisex birthday','Unisex relations'],\n",
    "              ['Female Birthday','Female Relations','Male Birthday','Male Relations','Unisex Birthday','Unisex Relations'], inplace=True)\n",
    "card.drop_duplicates(subset='idCard',inplace=True)"
   ]
  },
  {
   "cell_type": "markdown",
   "metadata": {},
   "source": [
    "# Data Analysis/Insights"
   ]
  },
  {
   "cell_type": "code",
   "execution_count": 25,
   "metadata": {},
   "outputs": [
    {
     "name": "stdout",
     "output_type": "stream",
     "text": [
      "Cards \n",
      "    idCard           mission\n",
      "0  1850.0   Unisex Birthday\n",
      "1   810.0             Blank\n",
      "2  3704.0    Male Relations\n",
      "3  1671.0          Sympathy\n",
      "4  4437.0  Unisex Relations\n",
      "Sales \n",
      "    idStore  idCard  quantity  revenue\n",
      "0    680.0  1850.0      42.0   171.39\n",
      "1    377.0   810.0      37.0    73.18\n",
      "2    412.0  3704.0      38.0   188.54\n",
      "3    661.0  1671.0     104.0   416.81\n",
      "4    676.0  4437.0      53.0   159.16\n",
      "Visits \n",
      "    idStore  visitors\n",
      "0      680     31871\n",
      "1      377      4204\n",
      "2      412     27391\n",
      "3      661     16019\n",
      "4      676    146949\n"
     ]
    }
   ],
   "source": [
    "print('Cards \\n',card.head())\n",
    "print('Sales \\n',sales.head())\n",
    "print('Visits \\n',visits.head())"
   ]
  },
  {
   "cell_type": "code",
   "execution_count": 26,
   "metadata": {},
   "outputs": [
    {
     "name": "stdout",
     "output_type": "stream",
     "text": [
      "Number of unique mission \n",
      " 10\n"
     ]
    },
    {
     "data": {
      "text/html": [
       "<div>\n",
       "<style scoped>\n",
       "    .dataframe tbody tr th:only-of-type {\n",
       "        vertical-align: middle;\n",
       "    }\n",
       "\n",
       "    .dataframe tbody tr th {\n",
       "        vertical-align: top;\n",
       "    }\n",
       "\n",
       "    .dataframe thead th {\n",
       "        text-align: right;\n",
       "    }\n",
       "</style>\n",
       "<table border=\"1\" class=\"dataframe\">\n",
       "  <thead>\n",
       "    <tr style=\"text-align: right;\">\n",
       "      <th></th>\n",
       "      <th>mission</th>\n",
       "      <th>idCard</th>\n",
       "    </tr>\n",
       "  </thead>\n",
       "  <tbody>\n",
       "    <tr>\n",
       "      <th>0</th>\n",
       "      <td>Blank</td>\n",
       "      <td>499</td>\n",
       "    </tr>\n",
       "    <tr>\n",
       "      <th>1</th>\n",
       "      <td>Female Birthday</td>\n",
       "      <td>498</td>\n",
       "    </tr>\n",
       "    <tr>\n",
       "      <th>2</th>\n",
       "      <td>Female Relations</td>\n",
       "      <td>497</td>\n",
       "    </tr>\n",
       "    <tr>\n",
       "      <th>3</th>\n",
       "      <td>Love</td>\n",
       "      <td>498</td>\n",
       "    </tr>\n",
       "    <tr>\n",
       "      <th>4</th>\n",
       "      <td>Male Birthday</td>\n",
       "      <td>497</td>\n",
       "    </tr>\n",
       "    <tr>\n",
       "      <th>5</th>\n",
       "      <td>Male Relations</td>\n",
       "      <td>499</td>\n",
       "    </tr>\n",
       "    <tr>\n",
       "      <th>6</th>\n",
       "      <td>Sympathy</td>\n",
       "      <td>499</td>\n",
       "    </tr>\n",
       "    <tr>\n",
       "      <th>7</th>\n",
       "      <td>Thanks</td>\n",
       "      <td>499</td>\n",
       "    </tr>\n",
       "    <tr>\n",
       "      <th>8</th>\n",
       "      <td>Unisex Birthday</td>\n",
       "      <td>498</td>\n",
       "    </tr>\n",
       "    <tr>\n",
       "      <th>9</th>\n",
       "      <td>Unisex Relations</td>\n",
       "      <td>498</td>\n",
       "    </tr>\n",
       "  </tbody>\n",
       "</table>\n",
       "</div>"
      ],
      "text/plain": [
       "            mission  idCard\n",
       "0             Blank     499\n",
       "1   Female Birthday     498\n",
       "2  Female Relations     497\n",
       "3              Love     498\n",
       "4     Male Birthday     497\n",
       "5    Male Relations     499\n",
       "6          Sympathy     499\n",
       "7            Thanks     499\n",
       "8   Unisex Birthday     498\n",
       "9  Unisex Relations     498"
      ]
     },
     "execution_count": 26,
     "metadata": {},
     "output_type": "execute_result"
    }
   ],
   "source": [
    "print('Number of unique mission \\n',len(card.groupby(by='mission').count()['idCard']))\n",
    "card.groupby(by='mission', as_index=False).count()"
   ]
  },
  {
   "cell_type": "code",
   "execution_count": 27,
   "metadata": {},
   "outputs": [
    {
     "name": "stdout",
     "output_type": "stream",
     "text": [
      "Number of unique CardIDs \n",
      " 4982\n"
     ]
    }
   ],
   "source": [
    "print('Number of unique CardIDs \\n',len(card.groupby(by='idCard').count()['mission']))"
   ]
  },
  {
   "cell_type": "code",
   "execution_count": 28,
   "metadata": {},
   "outputs": [
    {
     "name": "stdout",
     "output_type": "stream",
     "text": [
      "Number of unique StoreIDs \n",
      " 725\n"
     ]
    }
   ],
   "source": [
    "print('Number of unique StoreIDs \\n',len(visits.groupby(by='idStore').count()['visitors']))"
   ]
  },
  {
   "cell_type": "markdown",
   "metadata": {},
   "source": [
    "# Merging all files in one DataFrame (df) and creating new column AOV (average order value) from revenue and quantity"
   ]
  },
  {
   "cell_type": "code",
   "execution_count": 29,
   "metadata": {},
   "outputs": [
    {
     "name": "stdout",
     "output_type": "stream",
     "text": [
      "   idStore  idCard  quantity  revenue          mission  visitors       AOV\n",
      "0    680.0  1850.0      42.0   171.39  Unisex Birthday     31871  4.080714\n",
      "1    680.0  2930.0     221.0   888.05    Male Birthday     31871  4.018326\n",
      "2    680.0  3597.0     159.0   155.89    Male Birthday     31871  0.980440\n",
      "3    680.0  1304.0     191.0   962.03  Female Birthday     31871  5.036806\n",
      "4    680.0  4137.0       6.0    24.24           Thanks     31871  4.040000\n"
     ]
    }
   ],
   "source": [
    "df=pd.merge(sales,card, on='idCard')\n",
    "df=pd.merge(df,visits,on='idStore')\n",
    "df['AOV']=df['revenue']/df['quantity']\n",
    "df.dropna(inplace=True)\n",
    "print(df.head())"
   ]
  },
  {
   "cell_type": "markdown",
   "metadata": {},
   "source": [
    "# Share of each mission in total revenue"
   ]
  },
  {
   "cell_type": "code",
   "execution_count": 30,
   "metadata": {},
   "outputs": [
    {
     "data": {
      "image/png": "[encoded data removed]",
      "text/plain": [
       "<Figure size 576x360 with 1 Axes>"
      ]
     },
     "metadata": {},
     "output_type": "display_data"
    }
   ],
   "source": [
    "plt.figure(figsize=(8,5))\n",
    "df['revenue'].groupby(df['mission']).sum().plot(kind='pie')\n",
    "plt.title('revenue_by_mission')\n",
    "plt.axis('equal')\n",
    "plt.show()"
   ]
  },
  {
   "cell_type": "markdown",
   "metadata": {},
   "source": [
    "# Store-wise total revenue, quantity of all cards sold in that store and number of visitors in that store"
   ]
  },
  {
   "cell_type": "code",
   "execution_count": 31,
   "metadata": {},
   "outputs": [
    {
     "data": {
      "text/html": [
       "<div>\n",
       "<style scoped>\n",
       "    .dataframe tbody tr th:only-of-type {\n",
       "        vertical-align: middle;\n",
       "    }\n",
       "\n",
       "    .dataframe tbody tr th {\n",
       "        vertical-align: top;\n",
       "    }\n",
       "\n",
       "    .dataframe thead th {\n",
       "        text-align: right;\n",
       "    }\n",
       "</style>\n",
       "<table border=\"1\" class=\"dataframe\">\n",
       "  <thead>\n",
       "    <tr style=\"text-align: right;\">\n",
       "      <th></th>\n",
       "      <th>idStore</th>\n",
       "      <th>revenue</th>\n",
       "      <th>quantity</th>\n",
       "      <th>visitors</th>\n",
       "    </tr>\n",
       "  </thead>\n",
       "  <tbody>\n",
       "    <tr>\n",
       "      <th>504</th>\n",
       "      <td>508.0</td>\n",
       "      <td>177502.79</td>\n",
       "      <td>66568.0</td>\n",
       "      <td>89175</td>\n",
       "    </tr>\n",
       "    <tr>\n",
       "      <th>537</th>\n",
       "      <td>541.0</td>\n",
       "      <td>176023.75</td>\n",
       "      <td>57216.0</td>\n",
       "      <td>59530</td>\n",
       "    </tr>\n",
       "    <tr>\n",
       "      <th>623</th>\n",
       "      <td>627.0</td>\n",
       "      <td>174069.19</td>\n",
       "      <td>57607.0</td>\n",
       "      <td>56000</td>\n",
       "    </tr>\n",
       "    <tr>\n",
       "      <th>149</th>\n",
       "      <td>152.0</td>\n",
       "      <td>173813.75</td>\n",
       "      <td>68144.0</td>\n",
       "      <td>36274</td>\n",
       "    </tr>\n",
       "    <tr>\n",
       "      <th>638</th>\n",
       "      <td>642.0</td>\n",
       "      <td>172588.48</td>\n",
       "      <td>57580.0</td>\n",
       "      <td>45094</td>\n",
       "    </tr>\n",
       "  </tbody>\n",
       "</table>\n",
       "</div>"
      ],
      "text/plain": [
       "     idStore    revenue  quantity  visitors\n",
       "504    508.0  177502.79   66568.0     89175\n",
       "537    541.0  176023.75   57216.0     59530\n",
       "623    627.0  174069.19   57607.0     56000\n",
       "149    152.0  173813.75   68144.0     36274\n",
       "638    642.0  172588.48   57580.0     45094"
      ]
     },
     "execution_count": 31,
     "metadata": {},
     "output_type": "execute_result"
    }
   ],
   "source": [
    "store_rev=df[['idStore','revenue','quantity']].groupby(by='idStore', as_index=False).sum()\n",
    "ddf=df[['idStore','visitors']].drop_duplicates(subset='idStore')\n",
    "store_rev=pd.merge(store_rev,ddf,on='idStore',how='inner')\n",
    "store_rev.sort_values(by='revenue', ascending=False).head()"
   ]
  },
  {
   "cell_type": "code",
   "execution_count": 32,
   "metadata": {},
   "outputs": [
    {
     "name": "stdout",
     "output_type": "stream",
     "text": [
      "           idStore   revenue  quantity  visitors\n",
      "idStore   1.000000 -0.007525  0.016867 -0.013711\n",
      "revenue  -0.007525  1.000000  0.938580  0.708742\n",
      "quantity  0.016867  0.938580  1.000000  0.675281\n",
      "visitors -0.013711  0.708742  0.675281  1.000000\n"
     ]
    },
    {
     "data": {
      "text/plain": [
       "<matplotlib.axes._subplots.AxesSubplot at 0x27b062076d8>"
      ]
     },
     "execution_count": 32,
     "metadata": {},
     "output_type": "execute_result"
    },
    {
     "data": {
      "image/png": "[encoded data removed]",
      "text/plain": [
       "<Figure size 720x576 with 2 Axes>"
      ]
     },
     "metadata": {
      "needs_background": "light"
     },
     "output_type": "display_data"
    }
   ],
   "source": [
    "#correlation b/w attributes\n",
    "print(store_rev.corr())\n",
    "plt.figure(figsize=(10,8))\n",
    "sns.heatmap(store_rev.corr())"
   ]
  },
  {
   "cell_type": "code",
   "execution_count": 33,
   "metadata": {},
   "outputs": [
    {
     "data": {
      "text/html": [
       "<div>\n",
       "<style scoped>\n",
       "    .dataframe tbody tr th:only-of-type {\n",
       "        vertical-align: middle;\n",
       "    }\n",
       "\n",
       "    .dataframe tbody tr th {\n",
       "        vertical-align: top;\n",
       "    }\n",
       "\n",
       "    .dataframe thead th {\n",
       "        text-align: right;\n",
       "    }\n",
       "</style>\n",
       "<table border=\"1\" class=\"dataframe\">\n",
       "  <thead>\n",
       "    <tr style=\"text-align: right;\">\n",
       "      <th></th>\n",
       "      <th>idStore</th>\n",
       "      <th>revenue</th>\n",
       "      <th>quantity</th>\n",
       "      <th>visitors</th>\n",
       "    </tr>\n",
       "  </thead>\n",
       "  <tbody>\n",
       "    <tr>\n",
       "      <th>0</th>\n",
       "      <td>1.0</td>\n",
       "      <td>102336.91</td>\n",
       "      <td>34252.0</td>\n",
       "      <td>48095</td>\n",
       "    </tr>\n",
       "    <tr>\n",
       "      <th>1</th>\n",
       "      <td>2.0</td>\n",
       "      <td>44039.19</td>\n",
       "      <td>14766.0</td>\n",
       "      <td>2323</td>\n",
       "    </tr>\n",
       "    <tr>\n",
       "      <th>2</th>\n",
       "      <td>3.0</td>\n",
       "      <td>27144.39</td>\n",
       "      <td>8506.0</td>\n",
       "      <td>1534</td>\n",
       "    </tr>\n",
       "    <tr>\n",
       "      <th>3</th>\n",
       "      <td>4.0</td>\n",
       "      <td>158303.51</td>\n",
       "      <td>53833.0</td>\n",
       "      <td>29113</td>\n",
       "    </tr>\n",
       "    <tr>\n",
       "      <th>4</th>\n",
       "      <td>5.0</td>\n",
       "      <td>107209.43</td>\n",
       "      <td>35573.0</td>\n",
       "      <td>11064</td>\n",
       "    </tr>\n",
       "  </tbody>\n",
       "</table>\n",
       "</div>"
      ],
      "text/plain": [
       "   idStore    revenue  quantity  visitors\n",
       "0      1.0  102336.91   34252.0     48095\n",
       "1      2.0   44039.19   14766.0      2323\n",
       "2      3.0   27144.39    8506.0      1534\n",
       "3      4.0  158303.51   53833.0     29113\n",
       "4      5.0  107209.43   35573.0     11064"
      ]
     },
     "execution_count": 33,
     "metadata": {},
     "output_type": "execute_result"
    }
   ],
   "source": [
    "store_rev.head()"
   ]
  },
  {
   "cell_type": "markdown",
   "metadata": {},
   "source": [
    "# Creating new column \"%of total\", it will represent the percentage of revenue of that store against total revenue generated across all stores\n"
   ]
  },
  {
   "cell_type": "code",
   "execution_count": 34,
   "metadata": {},
   "outputs": [
    {
     "data": {
      "text/html": [
       "<div>\n",
       "<style scoped>\n",
       "    .dataframe tbody tr th:only-of-type {\n",
       "        vertical-align: middle;\n",
       "    }\n",
       "\n",
       "    .dataframe tbody tr th {\n",
       "        vertical-align: top;\n",
       "    }\n",
       "\n",
       "    .dataframe thead th {\n",
       "        text-align: right;\n",
       "    }\n",
       "</style>\n",
       "<table border=\"1\" class=\"dataframe\">\n",
       "  <thead>\n",
       "    <tr style=\"text-align: right;\">\n",
       "      <th></th>\n",
       "      <th>idStore</th>\n",
       "      <th>revenue</th>\n",
       "      <th>quantity</th>\n",
       "      <th>visitors</th>\n",
       "      <th>%of total</th>\n",
       "    </tr>\n",
       "  </thead>\n",
       "  <tbody>\n",
       "    <tr>\n",
       "      <th>0</th>\n",
       "      <td>1.0</td>\n",
       "      <td>102336.91</td>\n",
       "      <td>34252.0</td>\n",
       "      <td>48095</td>\n",
       "      <td>0.174245</td>\n",
       "    </tr>\n",
       "    <tr>\n",
       "      <th>1</th>\n",
       "      <td>2.0</td>\n",
       "      <td>44039.19</td>\n",
       "      <td>14766.0</td>\n",
       "      <td>2323</td>\n",
       "      <td>0.074984</td>\n",
       "    </tr>\n",
       "    <tr>\n",
       "      <th>2</th>\n",
       "      <td>3.0</td>\n",
       "      <td>27144.39</td>\n",
       "      <td>8506.0</td>\n",
       "      <td>1534</td>\n",
       "      <td>0.046218</td>\n",
       "    </tr>\n",
       "    <tr>\n",
       "      <th>3</th>\n",
       "      <td>4.0</td>\n",
       "      <td>158303.51</td>\n",
       "      <td>53833.0</td>\n",
       "      <td>29113</td>\n",
       "      <td>0.269537</td>\n",
       "    </tr>\n",
       "    <tr>\n",
       "      <th>4</th>\n",
       "      <td>5.0</td>\n",
       "      <td>107209.43</td>\n",
       "      <td>35573.0</td>\n",
       "      <td>11064</td>\n",
       "      <td>0.182541</td>\n",
       "    </tr>\n",
       "  </tbody>\n",
       "</table>\n",
       "</div>"
      ],
      "text/plain": [
       "   idStore    revenue  quantity  visitors  %of total\n",
       "0      1.0  102336.91   34252.0     48095   0.174245\n",
       "1      2.0   44039.19   14766.0      2323   0.074984\n",
       "2      3.0   27144.39    8506.0      1534   0.046218\n",
       "3      4.0  158303.51   53833.0     29113   0.269537\n",
       "4      5.0  107209.43   35573.0     11064   0.182541"
      ]
     },
     "execution_count": 34,
     "metadata": {},
     "output_type": "execute_result"
    }
   ],
   "source": [
    "store_rev['%of total']=store_rev['revenue'].apply(lambda x:  x*100/(store_rev['revenue'].sum()))\n",
    "store_rev.head()"
   ]
  },
  {
   "cell_type": "markdown",
   "metadata": {},
   "source": [
    "# Selecting top 300 stores contributing 62.85% of total revenue (This can be changed by altering the number of stores in \"head(300)\""
   ]
  },
  {
   "cell_type": "code",
   "execution_count": null,
   "metadata": {},
   "outputs": [],
   "source": [
    "top_store=store_rev.sort_values(by='revenue', ascending=False).head(300)\n",
    "top_store['%of total'].sum()"
   ]
  },
  {
   "cell_type": "markdown",
   "metadata": {},
   "source": [
    "# Card-wise total revenue and quantity sold across all stores against that idCard"
   ]
  },
  {
   "cell_type": "code",
   "execution_count": 36,
   "metadata": {},
   "outputs": [
    {
     "data": {
      "text/html": [
       "<div>\n",
       "<style scoped>\n",
       "    .dataframe tbody tr th:only-of-type {\n",
       "        vertical-align: middle;\n",
       "    }\n",
       "\n",
       "    .dataframe tbody tr th {\n",
       "        vertical-align: top;\n",
       "    }\n",
       "\n",
       "    .dataframe thead th {\n",
       "        text-align: right;\n",
       "    }\n",
       "</style>\n",
       "<table border=\"1\" class=\"dataframe\">\n",
       "  <thead>\n",
       "    <tr style=\"text-align: right;\">\n",
       "      <th></th>\n",
       "      <th>idCard</th>\n",
       "      <th>revenue</th>\n",
       "      <th>quantity</th>\n",
       "    </tr>\n",
       "  </thead>\n",
       "  <tbody>\n",
       "    <tr>\n",
       "      <th>411</th>\n",
       "      <td>413.0</td>\n",
       "      <td>48612.41</td>\n",
       "      <td>9597.0</td>\n",
       "    </tr>\n",
       "    <tr>\n",
       "      <th>2870</th>\n",
       "      <td>2878.0</td>\n",
       "      <td>47289.00</td>\n",
       "      <td>9297.0</td>\n",
       "    </tr>\n",
       "    <tr>\n",
       "      <th>4262</th>\n",
       "      <td>4278.0</td>\n",
       "      <td>46538.36</td>\n",
       "      <td>9333.0</td>\n",
       "    </tr>\n",
       "    <tr>\n",
       "      <th>2360</th>\n",
       "      <td>2368.0</td>\n",
       "      <td>44896.25</td>\n",
       "      <td>9069.0</td>\n",
       "    </tr>\n",
       "    <tr>\n",
       "      <th>4867</th>\n",
       "      <td>4885.0</td>\n",
       "      <td>42630.18</td>\n",
       "      <td>8528.0</td>\n",
       "    </tr>\n",
       "  </tbody>\n",
       "</table>\n",
       "</div>"
      ],
      "text/plain": [
       "      idCard   revenue  quantity\n",
       "411    413.0  48612.41    9597.0\n",
       "2870  2878.0  47289.00    9297.0\n",
       "4262  4278.0  46538.36    9333.0\n",
       "2360  2368.0  44896.25    9069.0\n",
       "4867  4885.0  42630.18    8528.0"
      ]
     },
     "execution_count": 36,
     "metadata": {},
     "output_type": "execute_result"
    }
   ],
   "source": [
    "card_rev=df[['idCard','revenue','quantity']].groupby(by='idCard', as_index=False).sum()\n",
    "card_rev.sort_values(by='revenue', ascending=False).head()"
   ]
  },
  {
   "cell_type": "markdown",
   "metadata": {},
   "source": [
    "# Creating new column \"%of total\", it will represent the percentage of revenue generated by each idcard against total revenue generated by all cards across all stores"
   ]
  },
  {
   "cell_type": "code",
   "execution_count": 37,
   "metadata": {},
   "outputs": [],
   "source": [
    "card_rev['%of total']=card_rev['revenue'].apply(lambda x:  x*100/(card_rev['revenue'].sum()))"
   ]
  },
  {
   "cell_type": "code",
   "execution_count": 38,
   "metadata": {},
   "outputs": [
    {
     "data": {
      "text/html": [
       "<div>\n",
       "<style scoped>\n",
       "    .dataframe tbody tr th:only-of-type {\n",
       "        vertical-align: middle;\n",
       "    }\n",
       "\n",
       "    .dataframe tbody tr th {\n",
       "        vertical-align: top;\n",
       "    }\n",
       "\n",
       "    .dataframe thead th {\n",
       "        text-align: right;\n",
       "    }\n",
       "</style>\n",
       "<table border=\"1\" class=\"dataframe\">\n",
       "  <thead>\n",
       "    <tr style=\"text-align: right;\">\n",
       "      <th></th>\n",
       "      <th>idCard</th>\n",
       "      <th>revenue</th>\n",
       "      <th>quantity</th>\n",
       "      <th>%of total</th>\n",
       "    </tr>\n",
       "  </thead>\n",
       "  <tbody>\n",
       "    <tr>\n",
       "      <th>0</th>\n",
       "      <td>1.0</td>\n",
       "      <td>28088.35</td>\n",
       "      <td>5508.0</td>\n",
       "      <td>0.047825</td>\n",
       "    </tr>\n",
       "    <tr>\n",
       "      <th>1</th>\n",
       "      <td>2.0</td>\n",
       "      <td>5598.93</td>\n",
       "      <td>15527.0</td>\n",
       "      <td>0.009533</td>\n",
       "    </tr>\n",
       "    <tr>\n",
       "      <th>2</th>\n",
       "      <td>3.0</td>\n",
       "      <td>12059.13</td>\n",
       "      <td>3038.0</td>\n",
       "      <td>0.020533</td>\n",
       "    </tr>\n",
       "    <tr>\n",
       "      <th>3</th>\n",
       "      <td>4.0</td>\n",
       "      <td>25232.08</td>\n",
       "      <td>5034.0</td>\n",
       "      <td>0.042962</td>\n",
       "    </tr>\n",
       "    <tr>\n",
       "      <th>4</th>\n",
       "      <td>5.0</td>\n",
       "      <td>10553.37</td>\n",
       "      <td>2673.0</td>\n",
       "      <td>0.017969</td>\n",
       "    </tr>\n",
       "  </tbody>\n",
       "</table>\n",
       "</div>"
      ],
      "text/plain": [
       "   idCard   revenue  quantity  %of total\n",
       "0     1.0  28088.35    5508.0   0.047825\n",
       "1     2.0   5598.93   15527.0   0.009533\n",
       "2     3.0  12059.13    3038.0   0.020533\n",
       "3     4.0  25232.08    5034.0   0.042962\n",
       "4     5.0  10553.37    2673.0   0.017969"
      ]
     },
     "execution_count": 38,
     "metadata": {},
     "output_type": "execute_result"
    }
   ],
   "source": [
    "card_rev.head()"
   ]
  },
  {
   "cell_type": "markdown",
   "metadata": {},
   "source": [
    "# Selecting top 1500 cards contributing to 53.37% of total revenue (This can be changed by altering the number of cards in \"head(1500)\""
   ]
  },
  {
   "cell_type": "code",
   "execution_count": 44,
   "metadata": {},
   "outputs": [],
   "source": [
    "top_card=card_rev.sort_values(by='revenue', ascending=False).head(1500)"
   ]
  },
  {
   "cell_type": "code",
   "execution_count": 45,
   "metadata": {},
   "outputs": [
    {
     "data": {
      "text/plain": [
       "53.37047862637462"
      ]
     },
     "execution_count": 45,
     "metadata": {},
     "output_type": "execute_result"
    }
   ],
   "source": [
    "top_card['%of total'].sum()"
   ]
  },
  {
   "cell_type": "code",
   "execution_count": 46,
   "metadata": {},
   "outputs": [
    {
     "name": "stdout",
     "output_type": "stream",
     "text": [
      "(300, 5)\n",
      "     idStore    revenue  quantity  visitors  %of total\n",
      "504    508.0  177502.79   66568.0     89175   0.302227\n",
      "537    541.0  176023.75   57216.0     59530   0.299709\n",
      "623    627.0  174069.19   57607.0     56000   0.296381\n",
      "149    152.0  173813.75   68144.0     36274   0.295946\n",
      "638    642.0  172588.48   57580.0     45094   0.293859\n",
      "(1500, 4)\n",
      "      idCard   revenue  quantity  %of total\n",
      "411    413.0  48612.41    9597.0   0.082770\n",
      "2870  2878.0  47289.00    9297.0   0.080517\n",
      "4262  4278.0  46538.36    9333.0   0.079239\n",
      "2360  2368.0  44896.25    9069.0   0.076443\n",
      "4867  4885.0  42630.18    8528.0   0.072585\n"
     ]
    }
   ],
   "source": [
    "print(top_store.shape)\n",
    "print(top_store.head())\n",
    "print(top_card.shape)\n",
    "print(top_card.head())"
   ]
  },
  {
   "cell_type": "code",
   "execution_count": 47,
   "metadata": {},
   "outputs": [
    {
     "data": {
      "text/html": [
       "<div>\n",
       "<style scoped>\n",
       "    .dataframe tbody tr th:only-of-type {\n",
       "        vertical-align: middle;\n",
       "    }\n",
       "\n",
       "    .dataframe tbody tr th {\n",
       "        vertical-align: top;\n",
       "    }\n",
       "\n",
       "    .dataframe thead th {\n",
       "        text-align: right;\n",
       "    }\n",
       "</style>\n",
       "<table border=\"1\" class=\"dataframe\">\n",
       "  <thead>\n",
       "    <tr style=\"text-align: right;\">\n",
       "      <th></th>\n",
       "      <th>idStore</th>\n",
       "      <th>idCard</th>\n",
       "      <th>quantity</th>\n",
       "      <th>revenue</th>\n",
       "    </tr>\n",
       "  </thead>\n",
       "  <tbody>\n",
       "    <tr>\n",
       "      <th>0</th>\n",
       "      <td>680.0</td>\n",
       "      <td>1850.0</td>\n",
       "      <td>42.0</td>\n",
       "      <td>171.39</td>\n",
       "    </tr>\n",
       "    <tr>\n",
       "      <th>1</th>\n",
       "      <td>377.0</td>\n",
       "      <td>810.0</td>\n",
       "      <td>37.0</td>\n",
       "      <td>73.18</td>\n",
       "    </tr>\n",
       "    <tr>\n",
       "      <th>2</th>\n",
       "      <td>412.0</td>\n",
       "      <td>3704.0</td>\n",
       "      <td>38.0</td>\n",
       "      <td>188.54</td>\n",
       "    </tr>\n",
       "    <tr>\n",
       "      <th>3</th>\n",
       "      <td>661.0</td>\n",
       "      <td>1671.0</td>\n",
       "      <td>104.0</td>\n",
       "      <td>416.81</td>\n",
       "    </tr>\n",
       "    <tr>\n",
       "      <th>4</th>\n",
       "      <td>676.0</td>\n",
       "      <td>4437.0</td>\n",
       "      <td>53.0</td>\n",
       "      <td>159.16</td>\n",
       "    </tr>\n",
       "  </tbody>\n",
       "</table>\n",
       "</div>"
      ],
      "text/plain": [
       "   idStore  idCard  quantity  revenue\n",
       "0    680.0  1850.0      42.0   171.39\n",
       "1    377.0   810.0      37.0    73.18\n",
       "2    412.0  3704.0      38.0   188.54\n",
       "3    661.0  1671.0     104.0   416.81\n",
       "4    676.0  4437.0      53.0   159.16"
      ]
     },
     "execution_count": 47,
     "metadata": {},
     "output_type": "execute_result"
    }
   ],
   "source": [
    "sales.head()"
   ]
  },
  {
   "cell_type": "markdown",
   "metadata": {},
   "source": [
    "# Getting idCard from top stores generating most of the revenue. For this i look up for idCards from original \"sales\" dataset using 'idStore'."
   ]
  },
  {
   "cell_type": "code",
   "execution_count": 49,
   "metadata": {},
   "outputs": [
    {
     "name": "stdout",
     "output_type": "stream",
     "text": [
      "(5001, 2)\n",
      "   idStore  idCard\n",
      "0    508.0  1327.0\n",
      "1    508.0  4245.0\n",
      "2    508.0  1455.0\n",
      "3    508.0  2277.0\n",
      "4    508.0  2763.0\n"
     ]
    }
   ],
   "source": [
    "#this will provide the idCard from the top performing stores.\n",
    "top_card1=pd.merge(top_store[['idStore']],sales[['idStore','idCard']], on='idStore', how='inner')\n",
    "top_card1=top_card1.drop_duplicates(subset='idCard')\n",
    "print(top_card1.shape)\n",
    "print(top_card1.head())"
   ]
  },
  {
   "cell_type": "markdown",
   "metadata": {},
   "source": [
    "# Now we can match the idCards obtained in above analysis with the idCards obtained from top selling idCards across all stores. This will give us a list of idCards which are present in both dataframes"
   ]
  },
  {
   "cell_type": "code",
   "execution_count": 50,
   "metadata": {},
   "outputs": [
    {
     "name": "stdout",
     "output_type": "stream",
     "text": [
      "(1500, 5)\n",
      "   idCard   revenue  quantity  %of total  idStore\n",
      "0   413.0  48612.41    9597.0   0.082770    508.0\n",
      "1  2878.0  47289.00    9297.0   0.080517    508.0\n",
      "2  4278.0  46538.36    9333.0   0.079239    131.0\n",
      "3  2368.0  44896.25    9069.0   0.076443    131.0\n",
      "4  4885.0  42630.18    8528.0   0.072585    508.0\n"
     ]
    }
   ],
   "source": [
    "#getting the common idCard from both datasets (i.e. cards from top perfroming stoers and top performing cards by overall revenue)\n",
    "top_performer=pd.merge(top_card,top_card1,on='idCard', how='inner')\n",
    "print(top_performer.shape)\n",
    "print(top_performer.head())"
   ]
  },
  {
   "cell_type": "markdown",
   "metadata": {},
   "source": [
    "# Mapping missions to the idCards obtained in the above analysis from original \"card\" dataset."
   ]
  },
  {
   "cell_type": "code",
   "execution_count": 51,
   "metadata": {},
   "outputs": [
    {
     "name": "stdout",
     "output_type": "stream",
     "text": [
      "(1500, 6)\n",
      "   idCard   revenue  quantity  %of total  idStore          mission\n",
      "0   413.0  48612.41    9597.0   0.082770    508.0  Female Birthday\n",
      "1  2878.0  47289.00    9297.0   0.080517    508.0  Female Birthday\n",
      "2  4278.0  46538.36    9333.0   0.079239    131.0  Female Birthday\n",
      "3  2368.0  44896.25    9069.0   0.076443    131.0  Female Birthday\n",
      "4  4885.0  42630.18    8528.0   0.072585    508.0  Female Birthday\n"
     ]
    }
   ],
   "source": [
    "#mapping mission to the idCard\n",
    "top_performer=pd.merge(top_performer, card, on='idCard', how='inner')\n",
    "print(top_performer.shape)\n",
    "print(top_performer.head())"
   ]
  },
  {
   "cell_type": "code",
   "execution_count": 52,
   "metadata": {},
   "outputs": [],
   "source": [
    "top_performer['%of total']=top_performer['revenue'].apply(lambda x:  x*100/(top_performer['revenue'].sum()))"
   ]
  },
  {
   "cell_type": "code",
   "execution_count": 53,
   "metadata": {},
   "outputs": [],
   "source": [
    "top_missions=top_performer[['idCard','mission']].groupby(by='mission', as_index=False).count().sort_values(by='idCard', ascending=False)"
   ]
  },
  {
   "cell_type": "code",
   "execution_count": 57,
   "metadata": {},
   "outputs": [
    {
     "name": "stdout",
     "output_type": "stream",
     "text": [
      "            mission  idCard  %of total\n",
      "1   Female Birthday     337  22.466667\n",
      "5    Male Relations     264  17.600000\n",
      "2  Female Relations     259  17.266667\n",
      "9  Unisex Relations     197  13.133333\n",
      "4     Male Birthday     149   9.933333\n",
      "0             Blank      92   6.133333\n",
      "8   Unisex Birthday      86   5.733333\n",
      "7            Thanks      62   4.133333\n",
      "6          Sympathy      46   3.066667\n",
      "3              Love       8   0.533333\n"
     ]
    }
   ],
   "source": [
    "top_missions['%of total']=top_missions['idCard'].apply(lambda x:  x*100/(top_missions['idCard'].sum()))\n",
    "print(top_missions)"
   ]
  },
  {
   "cell_type": "code",
   "execution_count": null,
   "metadata": {},
   "outputs": [],
   "source": []
  },
  {
   "cell_type": "code",
   "execution_count": null,
   "metadata": {},
   "outputs": [],
   "source": []
  },
  {
   "cell_type": "code",
   "execution_count": null,
   "metadata": {},
   "outputs": [],
   "source": []
  },
  {
   "cell_type": "code",
   "execution_count": null,
   "metadata": {},
   "outputs": [],
   "source": []
  },
  {
   "cell_type": "code",
   "execution_count": null,
   "metadata": {},
   "outputs": [],
   "source": []
  }
 ],
 "metadata": {
  "kernelspec": {
   "display_name": "Python 3",
   "language": "python",
   "name": "python3"
  },
  "language_info": {
   "codemirror_mode": {
    "name": "ipython",
    "version": 3
   },
   "file_extension": ".py",
   "mimetype": "text/x-python",
   "name": "python",
   "nbconvert_exporter": "python",
   "pygments_lexer": "ipython3",
   "version": "3.7.1"
  }
 },
 "nbformat": 4,
 "nbformat_minor": 2
}
